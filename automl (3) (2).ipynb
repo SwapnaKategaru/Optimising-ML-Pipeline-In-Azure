{
  "cells": [
    {
      "cell_type": "markdown",
      "source": [
        "# Automated ML\n",
        "\n",
        "In the cell below, import all the dependencies that you will need to complete the project."
      ],
      "metadata": {}
    },
    {
      "cell_type": "markdown",
      "source": [
        "1st markdown i done"
      ],
      "metadata": {
        "nteract": {
          "transient": {
            "deleting": false
          }
        }
      }
    },
    {
      "cell_type": "markdown",
      "source": [
        "# 1st markdown i done"
      ],
      "metadata": {
        "nteract": {
          "transient": {
            "deleting": false
          }
        }
      }
    },
    {
      "cell_type": "code",
      "source": [
        "pip install azureml-train-automl-runtime==1.22.0"
      ],
      "outputs": [
        {
          "output_type": "stream",
          "name": "stdout",
          "text": [
            "Requirement already satisfied: azureml-train-automl-runtime==1.22.0 in /anaconda/envs/azureml_py36/lib/python3.6/site-packages (1.22.0)\n",
            "Requirement already satisfied: numpy<1.19.0,>=1.16.0 in /anaconda/envs/azureml_py36/lib/python3.6/site-packages (from azureml-train-automl-runtime==1.22.0) (1.18.5)\n",
            "Requirement already satisfied: azureml-interpret~=1.22.0 in /anaconda/envs/azureml_py36/lib/python3.6/site-packages (from azureml-train-automl-runtime==1.22.0) (1.22.0)\n",
            "Requirement already satisfied: azureml-telemetry~=1.22.0 in /anaconda/envs/azureml_py36/lib/python3.6/site-packages (from azureml-train-automl-runtime==1.22.0) (1.22.0)\n",
            "Requirement already satisfied: skl2onnx==1.4.9 in /anaconda/envs/azureml_py36/lib/python3.6/site-packages (from azureml-train-automl-runtime==1.22.0) (1.4.9)\n",
            "Requirement already satisfied: jinja2<=2.11.2 in /anaconda/envs/azureml_py36/lib/python3.6/site-packages (from azureml-train-automl-runtime==1.22.0) (2.11.2)\n",
            "Requirement already satisfied: onnx<=1.7.0,>=1.5.0 in /anaconda/envs/azureml_py36/lib/python3.6/site-packages (from azureml-train-automl-runtime==1.22.0) (1.7.0)\n",
            "Requirement already satisfied: scikit-learn<0.23.0,>=0.19.0 in /anaconda/envs/azureml_py36/lib/python3.6/site-packages (from azureml-train-automl-runtime==1.22.0) (0.22.2.post1)\n",
            "Requirement already satisfied: lightgbm<=2.3.0,>=2.0.11 in /anaconda/envs/azureml_py36/lib/python3.6/site-packages (from azureml-train-automl-runtime==1.22.0) (2.3.0)\n",
            "Requirement already satisfied: azure-storage-queue~=12.1 in /anaconda/envs/azureml_py36/lib/python3.6/site-packages (from azureml-train-automl-runtime==1.22.0) (12.1.5)\n",
            "Requirement already satisfied: sklearn-pandas<=1.7.0,>=1.4.0 in /anaconda/envs/azureml_py36/lib/python3.6/site-packages (from azureml-train-automl-runtime==1.22.0) (1.7.0)\n",
            "Requirement already satisfied: azureml-train-automl-client~=1.22.0 in /anaconda/envs/azureml_py36/lib/python3.6/site-packages (from azureml-train-automl-runtime==1.22.0) (1.22.0)\n",
            "Requirement already satisfied: botocore<=1.18.18 in /anaconda/envs/azureml_py36/lib/python3.6/site-packages (from azureml-train-automl-runtime==1.22.0) (1.18.18)\n",
            "Requirement already satisfied: boto3<=1.15.18 in /anaconda/envs/azureml_py36/lib/python3.6/site-packages (from azureml-train-automl-runtime==1.22.0) (1.15.18)\n",
            "Requirement already satisfied: keras2onnx<=1.6.0,>=1.4.0 in /anaconda/envs/azureml_py36/lib/python3.6/site-packages (from azureml-train-automl-runtime==1.22.0) (1.6.0)\n",
            "Requirement already satisfied: azureml-dataset-runtime[fuse,pandas]~=1.22.0 in /anaconda/envs/azureml_py36/lib/python3.6/site-packages (from azureml-train-automl-runtime==1.22.0) (1.22.0)\n",
            "Requirement already satisfied: smart-open<=1.9.0 in /anaconda/envs/azureml_py36/lib/python3.6/site-packages (from azureml-train-automl-runtime==1.22.0) (1.9.0)\n",
            "Requirement already satisfied: azureml-automl-core~=1.22.0 in /anaconda/envs/azureml_py36/lib/python3.6/site-packages (from azureml-train-automl-runtime==1.22.0) (1.22.0)\n",
            "Requirement already satisfied: azureml-core~=1.22.0 in /anaconda/envs/azureml_py36/lib/python3.6/site-packages (from azureml-train-automl-runtime==1.22.0) (1.22.0)\n",
            "Requirement already satisfied: scipy<=1.5.2,>=1.0.0 in /anaconda/envs/azureml_py36/lib/python3.6/site-packages (from azureml-train-automl-runtime==1.22.0) (1.5.2)\n",
            "Requirement already satisfied: azureml-defaults~=1.22.0 in /anaconda/envs/azureml_py36/lib/python3.6/site-packages (from azureml-train-automl-runtime==1.22.0) (1.22.0)\n",
            "Requirement already satisfied: pandas<1.0.0,>=0.21.0 in /anaconda/envs/azureml_py36/lib/python3.6/site-packages (from azureml-train-automl-runtime==1.22.0) (0.25.3)\n",
            "Requirement already satisfied: gensim<3.9.0 in /anaconda/envs/azureml_py36/lib/python3.6/site-packages (from azureml-train-automl-runtime==1.22.0) (3.8.3)\n",
            "Requirement already satisfied: onnxruntime==1.3.0 in /anaconda/envs/azureml_py36/lib/python3.6/site-packages (from azureml-train-automl-runtime==1.22.0) (1.3.0)\n",
            "Requirement already satisfied: azureml-automl-runtime~=1.22.0 in /anaconda/envs/azureml_py36/lib/python3.6/site-packages (from azureml-train-automl-runtime==1.22.0) (1.22.0)\n",
            "Requirement already satisfied: onnxconverter-common<=1.6.0,>=1.4.2 in /anaconda/envs/azureml_py36/lib/python3.6/site-packages (from azureml-train-automl-runtime==1.22.0) (1.6.0)\n",
            "Requirement already satisfied: statsmodels<=0.10.2,>=0.9.0 in /anaconda/envs/azureml_py36/lib/python3.6/site-packages (from azureml-train-automl-runtime==1.22.0) (0.10.2)\n",
            "Requirement already satisfied: onnxmltools==1.4.1 in /anaconda/envs/azureml_py36/lib/python3.6/site-packages (from azureml-train-automl-runtime==1.22.0) (1.4.1)\n",
            "Requirement already satisfied: interpret-community==0.16.* in /anaconda/envs/azureml_py36/lib/python3.6/site-packages (from azureml-interpret~=1.22.0->azureml-train-automl-runtime==1.22.0) (0.16.0)\n",
            "Requirement already satisfied: applicationinsights in /anaconda/envs/azureml_py36/lib/python3.6/site-packages (from azureml-telemetry~=1.22.0->azureml-train-automl-runtime==1.22.0) (0.11.9)\n",
            "Requirement already satisfied: six in /anaconda/envs/azureml_py36/lib/python3.6/site-packages (from skl2onnx==1.4.9->azureml-train-automl-runtime==1.22.0) (1.15.0)\n",
            "Requirement already satisfied: protobuf in /anaconda/envs/azureml_py36/lib/python3.6/site-packages (from skl2onnx==1.4.9->azureml-train-automl-runtime==1.22.0) (3.14.0)\n",
            "Requirement already satisfied: MarkupSafe>=0.23 in /anaconda/envs/azureml_py36/lib/python3.6/site-packages (from jinja2<=2.11.2->azureml-train-automl-runtime==1.22.0) (1.1.1)\n",
            "Requirement already satisfied: typing-extensions>=3.6.2.1 in /anaconda/envs/azureml_py36/lib/python3.6/site-packages (from onnx<=1.7.0,>=1.5.0->azureml-train-automl-runtime==1.22.0) (3.7.4.3)\n",
            "Requirement already satisfied: joblib>=0.11 in /anaconda/envs/azureml_py36/lib/python3.6/site-packages (from scikit-learn<0.23.0,>=0.19.0->azureml-train-automl-runtime==1.22.0) (0.14.1)\n",
            "Requirement already satisfied: azure-core<2.0.0,>=1.10.0 in /anaconda/envs/azureml_py36/lib/python3.6/site-packages (from azure-storage-queue~=12.1->azureml-train-automl-runtime==1.22.0) (1.10.0)\n",
            "Requirement already satisfied: cryptography>=2.1.4 in /anaconda/envs/azureml_py36/lib/python3.6/site-packages (from azure-storage-queue~=12.1->azureml-train-automl-runtime==1.22.0) (3.3.1)\n",
            "Requirement already satisfied: msrest>=0.6.10 in /anaconda/envs/azureml_py36/lib/python3.6/site-packages (from azure-storage-queue~=12.1->azureml-train-automl-runtime==1.22.0) (0.6.21)\n",
            "Requirement already satisfied: python-dateutil<3.0.0,>=2.1 in /anaconda/envs/azureml_py36/lib/python3.6/site-packages (from botocore<=1.18.18->azureml-train-automl-runtime==1.22.0) (2.8.1)\n",
            "Requirement already satisfied: jmespath<1.0.0,>=0.7.1 in /anaconda/envs/azureml_py36/lib/python3.6/site-packages (from botocore<=1.18.18->azureml-train-automl-runtime==1.22.0) (0.10.0)\n",
            "Requirement already satisfied: urllib3<1.26,>=1.20; python_version != \"3.4\" in /anaconda/envs/azureml_py36/lib/python3.6/site-packages (from botocore<=1.18.18->azureml-train-automl-runtime==1.22.0) (1.25.11)\n",
            "Requirement already satisfied: s3transfer<0.4.0,>=0.3.0 in /anaconda/envs/azureml_py36/lib/python3.6/site-packages (from boto3<=1.15.18->azureml-train-automl-runtime==1.22.0) (0.3.4)\n",
            "Requirement already satisfied: requests in /anaconda/envs/azureml_py36/lib/python3.6/site-packages (from keras2onnx<=1.6.0,>=1.4.0->azureml-train-automl-runtime==1.22.0) (2.25.1)\n",
            "Requirement already satisfied: fire in /anaconda/envs/azureml_py36/lib/python3.6/site-packages (from keras2onnx<=1.6.0,>=1.4.0->azureml-train-automl-runtime==1.22.0) (0.4.0)\n",
            "Requirement already satisfied: azureml-dataprep<2.10.0a,>=2.9.0a in /anaconda/envs/azureml_py36/lib/python3.6/site-packages (from azureml-dataset-runtime[fuse,pandas]~=1.22.0->azureml-train-automl-runtime==1.22.0) (2.9.1)\n",
            "Requirement already satisfied: pyarrow<2.0.0,>=0.17.0 in /anaconda/envs/azureml_py36/lib/python3.6/site-packages (from azureml-dataset-runtime[fuse,pandas]~=1.22.0->azureml-train-automl-runtime==1.22.0) (1.0.1)\n",
            "Requirement already satisfied: fusepy<4.0.0,>=3.0.1; extra == \"fuse\" in /anaconda/envs/azureml_py36/lib/python3.6/site-packages (from azureml-dataset-runtime[fuse,pandas]~=1.22.0->azureml-train-automl-runtime==1.22.0) (3.0.1)\n",
            "Requirement already satisfied: boto>=2.32 in /anaconda/envs/azureml_py36/lib/python3.6/site-packages (from smart-open<=1.9.0->azureml-train-automl-runtime==1.22.0) (2.49.0)\n",
            "Requirement already satisfied: backports.tempfile in /anaconda/envs/azureml_py36/lib/python3.6/site-packages (from azureml-core~=1.22.0->azureml-train-automl-runtime==1.22.0) (1.0)\n",
            "Requirement already satisfied: ndg-httpsclient in /anaconda/envs/azureml_py36/lib/python3.6/site-packages (from azureml-core~=1.22.0->azureml-train-automl-runtime==1.22.0) (0.5.1)\n",
            "Requirement already satisfied: pyopenssl<21.0.0 in /anaconda/envs/azureml_py36/lib/python3.6/site-packages (from azureml-core~=1.22.0->azureml-train-automl-runtime==1.22.0) (20.0.1)\n",
            "Requirement already satisfied: pathspec in /anaconda/envs/azureml_py36/lib/python3.6/site-packages (from azureml-core~=1.22.0->azureml-train-automl-runtime==1.22.0) (0.8.1)\n",
            "Requirement already satisfied: azure-mgmt-resource<15.0.0,>=1.2.1 in /anaconda/envs/azureml_py36/lib/python3.6/site-packages (from azureml-core~=1.22.0->azureml-train-automl-runtime==1.22.0) (12.0.0)\n",
            "Requirement already satisfied: ruamel.yaml>=0.15.35 in /anaconda/envs/azureml_py36/lib/python3.6/site-packages (from azureml-core~=1.22.0->azureml-train-automl-runtime==1.22.0) (0.16.12)\n",
            "Requirement already satisfied: adal>=1.2.0 in /anaconda/envs/azureml_py36/lib/python3.6/site-packages (from azureml-core~=1.22.0->azureml-train-automl-runtime==1.22.0) (1.2.6)\n",
            "Requirement already satisfied: azure-graphrbac<1.0.0,>=0.40.0 in /anaconda/envs/azureml_py36/lib/python3.6/site-packages (from azureml-core~=1.22.0->azureml-train-automl-runtime==1.22.0) (0.61.1)\n",
            "Requirement already satisfied: SecretStorage in /anaconda/envs/azureml_py36/lib/python3.6/site-packages (from azureml-core~=1.22.0->azureml-train-automl-runtime==1.22.0) (3.3.0)\n",
            "Requirement already satisfied: PyJWT<3.0.0 in /anaconda/envs/azureml_py36/lib/python3.6/site-packages (from azureml-core~=1.22.0->azureml-train-automl-runtime==1.22.0) (1.7.1)\n",
            "Requirement already satisfied: contextlib2 in /anaconda/envs/azureml_py36/lib/python3.6/site-packages (from azureml-core~=1.22.0->azureml-train-automl-runtime==1.22.0) (0.6.0.post1)\n",
            "Requirement already satisfied: msrestazure>=0.4.33 in /anaconda/envs/azureml_py36/lib/python3.6/site-packages (from azureml-core~=1.22.0->azureml-train-automl-runtime==1.22.0) (0.6.4)\n",
            "Requirement already satisfied: azure-mgmt-keyvault<7.0.0,>=0.40.0 in /anaconda/envs/azureml_py36/lib/python3.6/site-packages (from azureml-core~=1.22.0->azureml-train-automl-runtime==1.22.0) (2.2.0)\n",
            "Requirement already satisfied: azure-common>=1.1.12 in /anaconda/envs/azureml_py36/lib/python3.6/site-packages (from azureml-core~=1.22.0->azureml-train-automl-runtime==1.22.0) (1.1.26)\n",
            "Requirement already satisfied: jsonpickle in /anaconda/envs/azureml_py36/lib/python3.6/site-packages (from azureml-core~=1.22.0->azureml-train-automl-runtime==1.22.0) (1.5.1)\n",
            "Requirement already satisfied: pytz in /anaconda/envs/azureml_py36/lib/python3.6/site-packages (from azureml-core~=1.22.0->azureml-train-automl-runtime==1.22.0) (2021.1)\n",
            "Requirement already satisfied: docker in /anaconda/envs/azureml_py36/lib/python3.6/site-packages (from azureml-core~=1.22.0->azureml-train-automl-runtime==1.22.0) (4.4.1)\n",
            "Requirement already satisfied: azure-mgmt-containerregistry>=2.0.0 in /anaconda/envs/azureml_py36/lib/python3.6/site-packages (from azureml-core~=1.22.0->azureml-train-automl-runtime==1.22.0) (2.8.0)\n",
            "Requirement already satisfied: azure-mgmt-authorization<1.0.0,>=0.40.0 in /anaconda/envs/azureml_py36/lib/python3.6/site-packages (from azureml-core~=1.22.0->azureml-train-automl-runtime==1.22.0) (0.61.0)\n",
            "Requirement already satisfied: azure-mgmt-storage<16.0.0,>=1.5.0 in /anaconda/envs/azureml_py36/lib/python3.6/site-packages (from azureml-core~=1.22.0->azureml-train-automl-runtime==1.22.0) (11.2.0)\n",
            "Requirement already satisfied: werkzeug<=1.0.1,>=0.16.1 in /anaconda/envs/azureml_py36/lib/python3.6/site-packages (from azureml-defaults~=1.22.0->azureml-train-automl-runtime==1.22.0) (1.0.1)\n",
            "Requirement already satisfied: gunicorn==19.9.0 in /anaconda/envs/azureml_py36/lib/python3.6/site-packages (from azureml-defaults~=1.22.0->azureml-train-automl-runtime==1.22.0) (19.9.0)\n",
            "Requirement already satisfied: configparser==3.7.4 in /anaconda/envs/azureml_py36/lib/python3.6/site-packages (from azureml-defaults~=1.22.0->azureml-train-automl-runtime==1.22.0) (3.7.4)\n",
            "Requirement already satisfied: json-logging-py==0.2 in /anaconda/envs/azureml_py36/lib/python3.6/site-packages (from azureml-defaults~=1.22.0->azureml-train-automl-runtime==1.22.0) (0.2)\n",
            "Requirement already satisfied: azureml-model-management-sdk==1.0.1b6.post1 in /anaconda/envs/azureml_py36/lib/python3.6/site-packages (from azureml-defaults~=1.22.0->azureml-train-automl-runtime==1.22.0) (1.0.1b6.post1)\n",
            "Requirement already satisfied: flask==1.0.3 in /anaconda/envs/azureml_py36/lib/python3.6/site-packages (from azureml-defaults~=1.22.0->azureml-train-automl-runtime==1.22.0) (1.0.3)\n",
            "Requirement already satisfied: dill<0.4.0,>=0.2.8 in /anaconda/envs/azureml_py36/lib/python3.6/site-packages (from azureml-automl-runtime~=1.22.0->azureml-train-automl-runtime==1.22.0) (0.3.3)\n",
            "Requirement already satisfied: psutil<6.0.0,>=5.2.2 in /anaconda/envs/azureml_py36/lib/python3.6/site-packages (from azureml-automl-runtime~=1.22.0->azureml-train-automl-runtime==1.22.0) (5.8.0)\n",
            "Requirement already satisfied: py-cpuinfo==5.0.0 in /anaconda/envs/azureml_py36/lib/python3.6/site-packages (from azureml-automl-runtime~=1.22.0->azureml-train-automl-runtime==1.22.0) (5.0.0)\n",
            "Requirement already satisfied: nimbusml<=1.8.0,>=1.7.1 in /anaconda/envs/azureml_py36/lib/python3.6/site-packages (from azureml-automl-runtime~=1.22.0->azureml-train-automl-runtime==1.22.0) (1.8.0)\n",
            "Requirement already satisfied: pmdarima==1.1.1 in /anaconda/envs/azureml_py36/lib/python3.6/site-packages (from azureml-automl-runtime~=1.22.0->azureml-train-automl-runtime==1.22.0) (1.1.1)\n",
            "Requirement already satisfied: patsy>=0.4.0 in /anaconda/envs/azureml_py36/lib/python3.6/site-packages (from statsmodels<=0.10.2,>=0.9.0->azureml-train-automl-runtime==1.22.0) (0.5.1)\n",
            "Requirement already satisfied: shap<=0.34.0,>=0.20.0 in /anaconda/envs/azureml_py36/lib/python3.6/site-packages (from interpret-community==0.16.*->azureml-interpret~=1.22.0->azureml-train-automl-runtime==1.22.0) (0.34.0)\n",
            "Requirement already satisfied: interpret-core[required]<=0.2.1,>=0.1.20 in /anaconda/envs/azureml_py36/lib/python3.6/site-packages (from interpret-community==0.16.*->azureml-interpret~=1.22.0->azureml-train-automl-runtime==1.22.0) (0.2.1)\n",
            "Requirement already satisfied: packaging in /anaconda/envs/azureml_py36/lib/python3.6/site-packages (from interpret-community==0.16.*->azureml-interpret~=1.22.0->azureml-train-automl-runtime==1.22.0) (20.9)\n",
            "Requirement already satisfied: cffi>=1.12 in /anaconda/envs/azureml_py36/lib/python3.6/site-packages (from cryptography>=2.1.4->azure-storage-queue~=12.1->azureml-train-automl-runtime==1.22.0) (1.14.4)\n",
            "Requirement already satisfied: requests-oauthlib>=0.5.0 in /anaconda/envs/azureml_py36/lib/python3.6/site-packages (from msrest>=0.6.10->azure-storage-queue~=12.1->azureml-train-automl-runtime==1.22.0) (1.3.0)\n",
            "Requirement already satisfied: isodate>=0.6.0 in /anaconda/envs/azureml_py36/lib/python3.6/site-packages (from msrest>=0.6.10->azure-storage-queue~=12.1->azureml-train-automl-runtime==1.22.0) (0.6.0)\n",
            "Requirement already satisfied: certifi>=2017.4.17 in /anaconda/envs/azureml_py36/lib/python3.6/site-packages (from msrest>=0.6.10->azure-storage-queue~=12.1->azureml-train-automl-runtime==1.22.0) (2020.12.5)\n",
            "Requirement already satisfied: idna<3,>=2.5 in /anaconda/envs/azureml_py36/lib/python3.6/site-packages (from requests->keras2onnx<=1.6.0,>=1.4.0->azureml-train-automl-runtime==1.22.0) (2.10)\n",
            "Requirement already satisfied: chardet<5,>=3.0.2 in /anaconda/envs/azureml_py36/lib/python3.6/site-packages (from requests->keras2onnx<=1.6.0,>=1.4.0->azureml-train-automl-runtime==1.22.0) (4.0.0)\n",
            "Requirement already satisfied: termcolor in /anaconda/envs/azureml_py36/lib/python3.6/site-packages (from fire->keras2onnx<=1.6.0,>=1.4.0->azureml-train-automl-runtime==1.22.0) (1.1.0)\n",
            "Requirement already satisfied: azureml-dataprep-native<30.0.0,>=29.0.0 in /anaconda/envs/azureml_py36/lib/python3.6/site-packages (from azureml-dataprep<2.10.0a,>=2.9.0a->azureml-dataset-runtime[fuse,pandas]~=1.22.0->azureml-train-automl-runtime==1.22.0) (29.0.0)\n",
            "Requirement already satisfied: cloudpickle<2.0.0,>=1.1.0 in /anaconda/envs/azureml_py36/lib/python3.6/site-packages (from azureml-dataprep<2.10.0a,>=2.9.0a->azureml-dataset-runtime[fuse,pandas]~=1.22.0->azureml-train-automl-runtime==1.22.0) (1.6.0)\n",
            "Requirement already satisfied: dotnetcore2<3.0.0,>=2.1.14 in /anaconda/envs/azureml_py36/lib/python3.6/site-packages (from azureml-dataprep<2.10.0a,>=2.9.0a->azureml-dataset-runtime[fuse,pandas]~=1.22.0->azureml-train-automl-runtime==1.22.0) (2.1.20)\n",
            "Requirement already satisfied: azureml-dataprep-rslex<1.8.0a,>=1.7.0dev0 in /anaconda/envs/azureml_py36/lib/python3.6/site-packages (from azureml-dataprep<2.10.0a,>=2.9.0a->azureml-dataset-runtime[fuse,pandas]~=1.22.0->azureml-train-automl-runtime==1.22.0) (1.7.0)\n",
            "Requirement already satisfied: azure-identity<1.5.0,>=1.2.0 in /anaconda/envs/azureml_py36/lib/python3.6/site-packages (from azureml-dataprep<2.10.0a,>=2.9.0a->azureml-dataset-runtime[fuse,pandas]~=1.22.0->azureml-train-automl-runtime==1.22.0) (1.4.1)\n",
            "Requirement already satisfied: backports.weakref in /anaconda/envs/azureml_py36/lib/python3.6/site-packages (from backports.tempfile->azureml-core~=1.22.0->azureml-train-automl-runtime==1.22.0) (1.0.post1)\n",
            "Requirement already satisfied: pyasn1>=0.1.1 in /anaconda/envs/azureml_py36/lib/python3.6/site-packages (from ndg-httpsclient->azureml-core~=1.22.0->azureml-train-automl-runtime==1.22.0) (0.4.8)\n",
            "Requirement already satisfied: ruamel.yaml.clib>=0.1.2; platform_python_implementation == \"CPython\" and python_version < \"3.9\" in /anaconda/envs/azureml_py36/lib/python3.6/site-packages (from ruamel.yaml>=0.15.35->azureml-core~=1.22.0->azureml-train-automl-runtime==1.22.0) (0.2.2)\n",
            "Requirement already satisfied: jeepney>=0.6 in /anaconda/envs/azureml_py36/lib/python3.6/site-packages (from SecretStorage->azureml-core~=1.22.0->azureml-train-automl-runtime==1.22.0) (0.6.0)\n",
            "Requirement already satisfied: importlib-metadata; python_version < \"3.8\" in /anaconda/envs/azureml_py36/lib/python3.6/site-packages (from jsonpickle->azureml-core~=1.22.0->azureml-train-automl-runtime==1.22.0) (3.4.0)\n",
            "Requirement already satisfied: websocket-client>=0.32.0 in /anaconda/envs/azureml_py36/lib/python3.6/site-packages (from docker->azureml-core~=1.22.0->azureml-train-automl-runtime==1.22.0) (0.57.0)\n",
            "Requirement already satisfied: liac-arff>=2.1.1 in /anaconda/envs/azureml_py36/lib/python3.6/site-packages (from azureml-model-management-sdk==1.0.1b6.post1->azureml-defaults~=1.22.0->azureml-train-automl-runtime==1.22.0) (2.5.0)\n",
            "Requirement already satisfied: click>=5.1 in /anaconda/envs/azureml_py36/lib/python3.6/site-packages (from flask==1.0.3->azureml-defaults~=1.22.0->azureml-train-automl-runtime==1.22.0) (7.1.2)\n",
            "Requirement already satisfied: itsdangerous>=0.24 in /anaconda/envs/azureml_py36/lib/python3.6/site-packages (from flask==1.0.3->azureml-defaults~=1.22.0->azureml-train-automl-runtime==1.22.0) (1.1.0)\n",
            "Requirement already satisfied: Cython>=0.29 in /anaconda/envs/azureml_py36/lib/python3.6/site-packages (from pmdarima==1.1.1->azureml-automl-runtime~=1.22.0->azureml-train-automl-runtime==1.22.0) (0.29.21)\n",
            "Requirement already satisfied: tqdm>4.25.0 in /anaconda/envs/azureml_py36/lib/python3.6/site-packages (from shap<=0.34.0,>=0.20.0->interpret-community==0.16.*->azureml-interpret~=1.22.0->azureml-train-automl-runtime==1.22.0) (4.56.0)\n",
            "Requirement already satisfied: pyparsing>=2.0.2 in /anaconda/envs/azureml_py36/lib/python3.6/site-packages (from packaging->interpret-community==0.16.*->azureml-interpret~=1.22.0->azureml-train-automl-runtime==1.22.0) (2.4.7)\n",
            "Requirement already satisfied: pycparser in /anaconda/envs/azureml_py36/lib/python3.6/site-packages (from cffi>=1.12->cryptography>=2.1.4->azure-storage-queue~=12.1->azureml-train-automl-runtime==1.22.0) (2.20)\n",
            "Requirement already satisfied: oauthlib>=3.0.0 in /anaconda/envs/azureml_py36/lib/python3.6/site-packages (from requests-oauthlib>=0.5.0->msrest>=0.6.10->azure-storage-queue~=12.1->azureml-train-automl-runtime==1.22.0) (3.1.0)\n",
            "Requirement already satisfied: distro>=1.2.0 in /anaconda/envs/azureml_py36/lib/python3.6/site-packages (from dotnetcore2<3.0.0,>=2.1.14->azureml-dataprep<2.10.0a,>=2.9.0a->azureml-dataset-runtime[fuse,pandas]~=1.22.0->azureml-train-automl-runtime==1.22.0) (1.5.0)\n",
            "Requirement already satisfied: msal-extensions~=0.2.2 in /anaconda/envs/azureml_py36/lib/python3.6/site-packages (from azure-identity<1.5.0,>=1.2.0->azureml-dataprep<2.10.0a,>=2.9.0a->azureml-dataset-runtime[fuse,pandas]~=1.22.0->azureml-train-automl-runtime==1.22.0) (0.2.2)\n",
            "Requirement already satisfied: msal<2.0.0,>=1.3.0 in /anaconda/envs/azureml_py36/lib/python3.6/site-packages (from azure-identity<1.5.0,>=1.2.0->azureml-dataprep<2.10.0a,>=2.9.0a->azureml-dataset-runtime[fuse,pandas]~=1.22.0->azureml-train-automl-runtime==1.22.0) (1.8.0)\n",
            "Requirement already satisfied: zipp>=0.5 in /anaconda/envs/azureml_py36/lib/python3.6/site-packages (from importlib-metadata; python_version < \"3.8\"->jsonpickle->azureml-core~=1.22.0->azureml-train-automl-runtime==1.22.0) (3.4.0)\n",
            "Requirement already satisfied: portalocker~=1.0; platform_system != \"Windows\" in /anaconda/envs/azureml_py36/lib/python3.6/site-packages (from msal-extensions~=0.2.2->azure-identity<1.5.0,>=1.2.0->azureml-dataprep<2.10.0a,>=2.9.0a->azureml-dataset-runtime[fuse,pandas]~=1.22.0->azureml-train-automl-runtime==1.22.0) (1.7.1)\n",
            "Note: you may need to restart the kernel to use updated packages.\n"
          ]
        }
      ],
      "execution_count": 2,
      "metadata": {
        "collapsed": true,
        "jupyter": {
          "source_hidden": false,
          "outputs_hidden": false
        },
        "nteract": {
          "transient": {
            "deleting": false
          }
        },
        "gather": {
          "logged": 1615031211749
        }
      }
    },
    {
      "cell_type": "markdown",
      "source": [
        "# st markdown i done"
      ],
      "metadata": {
        "nteract": {
          "transient": {
            "deleting": false
          }
        }
      }
    },
    {
      "cell_type": "code",
      "source": [
        "pip install inference_schema"
      ],
      "outputs": [
        {
          "output_type": "stream",
          "name": "stdout",
          "text": [
            "Collecting inference_schema\n",
            "  Downloading inference_schema-1.1.0-py3-none-any.whl (19 kB)\n",
            "Requirement already satisfied: pytz>=2017.2 in /anaconda/envs/azureml_py36/lib/python3.6/site-packages (from inference_schema) (2021.1)\n",
            "Collecting wrapt==1.11.1\n",
            "  Downloading wrapt-1.11.1.tar.gz (27 kB)\n",
            "Requirement already satisfied: python-dateutil>=2.5.3 in /anaconda/envs/azureml_py36/lib/python3.6/site-packages (from inference_schema) (2.8.1)\n",
            "Requirement already satisfied: six>=1.5 in /anaconda/envs/azureml_py36/lib/python3.6/site-packages (from python-dateutil>=2.5.3->inference_schema) (1.15.0)\n",
            "Building wheels for collected packages: wrapt\n",
            "  Building wheel for wrapt (setup.py) ... \u001b[?25l-\b \b\\\b \b|\b \bdone\n",
            "\u001b[?25h  Created wheel for wrapt: filename=wrapt-1.11.1-cp36-cp36m-linux_x86_64.whl size=66561 sha256=8a4548cd058534dbfc27e6b83037946add5b6c35caaa5a9fcf72621236332440\n",
            "  Stored in directory: /home/azureuser/.cache/pip/wheels/94/0f/ec/66085641573800014bb0c8b657f3366eff641c42df79abbfe9\n",
            "Successfully built wrapt\n",
            "\u001b[31mERROR: tensorflow 2.1.0 has requirement scipy==1.4.1; python_version >= \"3\", but you'll have scipy 1.5.2 which is incompatible.\u001b[0m\n",
            "\u001b[31mERROR: tensorflow-gpu 2.1.0 has requirement scipy==1.4.1; python_version >= \"3\", but you'll have scipy 1.5.2 which is incompatible.\u001b[0m\n",
            "\u001b[31mERROR: autokeras 1.0.12 has requirement tensorflow>=2.3.0, but you'll have tensorflow 2.1.0 which is incompatible.\u001b[0m\n",
            "Installing collected packages: wrapt, inference-schema\n",
            "  Attempting uninstall: wrapt\n",
            "    Found existing installation: wrapt 1.12.1\n",
            "    Uninstalling wrapt-1.12.1:\n",
            "      Successfully uninstalled wrapt-1.12.1\n",
            "Successfully installed inference-schema-1.1.0 wrapt-1.11.1\n",
            "Note: you may need to restart the kernel to use updated packages.\n"
          ]
        }
      ],
      "execution_count": 3,
      "metadata": {
        "collapsed": true,
        "jupyter": {
          "source_hidden": false,
          "outputs_hidden": false
        },
        "nteract": {
          "transient": {
            "deleting": false
          }
        },
        "gather": {
          "logged": 1615031226283
        }
      }
    },
    {
      "cell_type": "markdown",
      "source": [
        "# 21st markdown i done"
      ],
      "metadata": {
        "nteract": {
          "transient": {
            "deleting": false
          }
        }
      }
    },
    {
      "cell_type": "code",
      "source": [
        "import azureml.core\r\n",
        "print(\"The version used is :\", azureml.core.VERSION)"
      ],
      "outputs": [
        {
          "output_type": "stream",
          "name": "stdout",
          "text": [
            "The version used is : 1.22.0\n"
          ]
        }
      ],
      "execution_count": 6,
      "metadata": {
        "collapsed": true,
        "jupyter": {
          "source_hidden": false,
          "outputs_hidden": false
        },
        "nteract": {
          "transient": {
            "deleting": false
          }
        },
        "gather": {
          "logged": 1615031254420
        }
      }
    },
    {
      "cell_type": "code",
      "source": [],
      "outputs": [],
      "execution_count": null,
      "metadata": {
        "collapsed": true,
        "jupyter": {
          "source_hidden": false,
          "outputs_hidden": false
        },
        "nteract": {
          "transient": {
            "deleting": false
          }
        }
      }
    },
    {
      "cell_type": "markdown",
      "source": [
        "# 3st markdown i done"
      ],
      "metadata": {
        "nteract": {
          "transient": {
            "deleting": false
          }
        }
      }
    },
    {
      "cell_type": "markdown",
      "source": [
        "## Initialize Workspace and Create Experiment\r\n",
        "\r\n",
        "Initializing a workspace object from persisted configuration.  \r\n",
        "Create an AzureML experiment with experiment name as \"auto-ml\". This will be recorded under the experiment section in Azure ML studio."
      ],
      "metadata": {
        "nteract": {
          "transient": {
            "deleting": false
          }
        }
      }
    },
    {
      "cell_type": "code",
      "source": [
        "from azureml.core import Workspace, Experiment\n",
        "\n",
        "ws = Workspace.from_config()\n",
        "\n",
        "# choose a name for experiment\n",
        "experiment_name = 'auto-ml'\n",
        "\n",
        "experiment=Experiment(ws, experiment_name)\n"
      ],
      "outputs": [
        {
          "output_type": "stream",
          "name": "stdout",
          "text": [
            "Performing interactive authentication. Please follow the instructions on the terminal.\n",
            "To sign in, use a web browser to open the page https://microsoft.com/devicelogin and enter the code F5NYNMJ4W to authenticate.\n",
            "You have logged in. Now let us find all the subscriptions to which you have access...\n",
            "Interactive authentication successfully completed.\n"
          ]
        }
      ],
      "execution_count": 9,
      "metadata": {
        "gather": {
          "logged": 1615031774534
        },
        "jupyter": {
          "outputs_hidden": false,
          "source_hidden": false
        },
        "nteract": {
          "transient": {
            "deleting": false
          }
        }
      }
    },
    {
      "cell_type": "markdown",
      "source": [
        "## Overview of Dataset\r\n",
        "The dataset used in this notebook is __heart_failure_clinical_records_dataset.csv__ which is an external dataset available in kaggle.  \r\n",
        "This dataset contains data of 299 patients and 12 features that are useful to predict mortality by heart failure.\r\n",
        "* No.of patients data collected : 299\r\n",
        "* Input variables or features : age, anaemia, creatinine_phosphokinase, diabetes, ejection_fraction, high_blood_pressure, platelets, serum_creatinine, serum_sodium, sex, smoking, time\r\n",
        "* Output/target variable : DEATH_EVENT\r\n",
        "\r\n",
        "In this project, we create a classification model for predicting mortality rate/DEATH_EVENT(target variabe) that is caused due to Heart Failure."
      ],
      "metadata": {
        "nteract": {
          "transient": {
            "deleting": false
          }
        }
      }
    },
    {
      "cell_type": "markdown",
      "source": [
        "### Data Import\r\n",
        "Create tabular dataset of heart_failure_clinical_records_dataset csv_file by importing of data using azureml's **TabularDatasetFactory** class."
      ],
      "metadata": {
        "nteract": {
          "transient": {
            "deleting": false
          }
        }
      }
    },
    {
      "cell_type": "code",
      "source": [
        "from azureml.data.dataset_factory import TabularDatasetFactory\r\n",
        "\r\n",
        "csv_file = 'https://raw.githubusercontent.com/SwapnaKategaru/Project3/main/heart_failure_clinical_records_dataset.csv'\r\n",
        "\r\n",
        "data = TabularDatasetFactory.from_delimited_files(csv_file)"
      ],
      "outputs": [],
      "execution_count": 11,
      "metadata": {
        "collapsed": true,
        "jupyter": {
          "source_hidden": false,
          "outputs_hidden": false
        },
        "nteract": {
          "transient": {
            "deleting": false
          }
        },
        "gather": {
          "logged": 1615032797726
        }
      }
    },
    {
      "cell_type": "code",
      "source": [
        "from azureml.core.compute import AmlCompute\r\n",
        "from azureml.core.compute import ComputeTarget\r\n",
        "from azureml.core.compute_target import ComputeTargetException\r\n",
        "\r\n",
        "# NOTE: update the cluster name to match the existing cluster\r\n",
        "# Choose a name for your CPU cluster\r\n",
        "amlcompute_cluster_name = \"auto-ml\"\r\n",
        "\r\n",
        "# Verify that cluster does not exist already\r\n",
        "try:\r\n",
        "    compute_target = ComputeTarget(workspace=ws, name=amlcompute_cluster_name)\r\n",
        "    print('Found existing cluster, use it.')\r\n",
        "except ComputeTargetException:\r\n",
        "    compute_config = AmlCompute.provisioning_configuration(vm_size='STANDARD_D2_V2',# for GPU, use \"STANDARD_NC6\"\r\n",
        "                                                           #vm_priority = 'lowpriority', # optional\r\n",
        "                                                           max_nodes=4)\r\n",
        "    compute_target = ComputeTarget.create(ws, amlcompute_cluster_name, compute_config)\r\n",
        "\r\n",
        "compute_target.wait_for_completion(show_output=True, min_node_count = 1, timeout_in_minutes = 10)\r\n",
        "# For a more detailed view of current AmlCompute status, use get_status()."
      ],
      "outputs": [
        {
          "output_type": "stream",
          "name": "stdout",
          "text": [
            "Creating\n",
            "Succeeded................................................................................................................\n",
            "AmlCompute wait for completion finished\n",
            "\n",
            "Wait timeout has been reached\n",
            "Current provisioning state of AmlCompute is \"Succeeded\" and current node count is \"0\"\n"
          ]
        }
      ],
      "execution_count": 10,
      "metadata": {
        "collapsed": true,
        "jupyter": {
          "source_hidden": false,
          "outputs_hidden": false
        },
        "nteract": {
          "transient": {
            "deleting": false
          }
        },
        "gather": {
          "logged": 1615032407504
        }
      }
    },
    {
      "cell_type": "markdown",
      "source": [
        "## Clean Data\r\n",
        "A clean_data function is used from **train.py** script file to clean the data and the data is being normalized.  \r\n",
        "\r\n",
        "## Split Data\r\n",
        "\r\n",
        "Splitting of data into train and test subsets is done using **train_test_split** function with specified random state of split (random_state=42) and size of test set (test_size=0.33)."
      ],
      "metadata": {
        "nteract": {
          "transient": {
            "deleting": false
          }
        }
      }
    },
    {
      "cell_type": "code",
      "source": [
        "from train import clean_data\r\n",
        "from sklearn.model_selection import train_test_split\r\n",
        "import pandas as pd\r\n",
        "x, y = clean_data(data)\r\n",
        "\r\n",
        "x_train, x_test, y_train, y_test = train_test_split(x, y, test_size=0.33, random_state=42)\r\n",
        "train_data = pd.concat([x_train, y_train], axis = 1)"
      ],
      "outputs": [],
      "execution_count": 12,
      "metadata": {
        "collapsed": true,
        "jupyter": {
          "source_hidden": false,
          "outputs_hidden": false
        },
        "nteract": {
          "transient": {
            "deleting": false
          }
        },
        "gather": {
          "logged": 1615033222765
        }
      }
    },
    {
      "cell_type": "markdown",
      "source": [
        "## AutoML Configuration\r\n",
        "TODO: Explain why you chose the automl settings and cofiguration you used below."
      ],
      "metadata": {
        "nteract": {
          "transient": {
            "deleting": false
          }
        }
      }
    },
    {
      "cell_type": "code",
      "source": [
        "from azureml.train.automl import AutoMLConfig\r\n",
        "import logging\r\n",
        "\r\n",
        "automl_settings = {\r\n",
        "    \"enable_early_stopping\" : True,\r\n",
        "    \"max_concurrent_iterations\": 4,\r\n",
        "    \"primary_metric\": 'AUC_weighted',\r\n",
        "    \"featurization\": 'auto',\r\n",
        "    \"verbosity\": logging.INFO,\r\n",
        "}\r\n",
        "\r\n",
        "automl_config = AutoMLConfig(\r\n",
        "    experiment_timeout_minutes=15,\r\n",
        "    task='classification',\r\n",
        "    training_data=train_data,\r\n",
        "    label_column_name='DEATH_EVENT',\r\n",
        "    n_cross_validations=2,\r\n",
        "    blocked_models=['XGBoostClassifier']\r\n",
        ")"
      ],
      "outputs": [],
      "execution_count": 13,
      "metadata": {
        "collapsed": true,
        "jupyter": {
          "source_hidden": false,
          "outputs_hidden": false
        },
        "nteract": {
          "transient": {
            "deleting": false
          }
        },
        "gather": {
          "logged": 1615033266991
        }
      }
    },
    {
      "cell_type": "code",
      "source": [
        "remote_run = experiment.submit(automl_config, show_output=True)"
      ],
      "outputs": [
        {
          "output_type": "stream",
          "name": "stdout",
          "text": [
            "No run_configuration provided, running on local with default configuration\n",
            "Running on local machine\n",
            "Parent Run ID: AutoML_67ca48eb-d33e-479c-9ad2-82c679dacb51\n",
            "\n",
            "Current status: DatasetEvaluation. Gathering dataset statistics.\n",
            "Current status: FeaturesGeneration. Generating features for the dataset.\n",
            "Current status: DatasetFeaturization. Beginning to fit featurizers and featurize the dataset.\n",
            "Current status: DatasetFeaturizationCompleted. Completed fit featurizers and featurizing the dataset.\n",
            "Current status: DatasetCrossValidationSplit. Generating individually featurized CV splits.\n",
            "\n",
            "****************************************************************************************************\n",
            "DATA GUARDRAILS: \n",
            "\n",
            "TYPE:         Class balancing detection\n",
            "STATUS:       PASSED\n",
            "DESCRIPTION:  Your inputs were analyzed, and all classes are balanced in your training data.\n",
            "              Learn more about imbalanced data: https://aka.ms/AutomatedMLImbalancedData\n",
            "\n",
            "****************************************************************************************************\n",
            "\n",
            "TYPE:         Missing feature values imputation\n",
            "STATUS:       PASSED\n",
            "DESCRIPTION:  No feature missing values were detected in the training data.\n",
            "              Learn more about missing value imputation: https://aka.ms/AutomatedMLFeaturization\n",
            "\n",
            "****************************************************************************************************\n",
            "\n",
            "TYPE:         High cardinality feature detection\n",
            "STATUS:       PASSED\n",
            "DESCRIPTION:  Your inputs were analyzed, and no high cardinality features were detected.\n",
            "              Learn more about high cardinality feature handling: https://aka.ms/AutomatedMLFeaturization\n",
            "\n",
            "****************************************************************************************************\n",
            "Current status: ModelSelection. Beginning model selection.\n",
            "\n",
            "****************************************************************************************************\n",
            "ITERATION: The iteration being evaluated.\n",
            "PIPELINE: A summary description of the pipeline being evaluated.\n",
            "DURATION: Time taken for the current iteration.\n",
            "METRIC: The result of computing score on the fitted pipeline.\n",
            "BEST: The best observed score thus far.\n",
            "****************************************************************************************************\n",
            "\n",
            " ITERATION   PIPELINE                                       DURATION      METRIC      BEST\n",
            "         0   MaxAbsScaler LightGBM                          0:00:24       0.8100    0.8100\n",
            "         1   MinMaxScaler RandomForest                      0:00:27       0.8750    0.8750\n",
            "         2   MinMaxScaler RandomForest                      0:00:22       0.8700    0.8750\n",
            "         3   MinMaxScaler RandomForest                      0:00:22       0.8900    0.8900\n",
            "         4   MinMaxScaler RandomForest                      0:00:28       0.8350    0.8900\n",
            "         5   MinMaxScaler SVM                               0:00:22       0.8000    0.8900\n",
            "         6   MaxAbsScaler GradientBoosting                  0:00:26       0.8800    0.8900\n",
            "         7   MaxAbsScaler ExtremeRandomTrees                0:00:32       0.8250    0.8900\n",
            "         8   StandardScalerWrapper RandomForest             0:00:34       0.8650    0.8900\n",
            "         9   RobustScaler ExtremeRandomTrees                0:00:29       0.8900    0.8900\n",
            "        10   MaxAbsScaler LightGBM                          0:00:26       0.8000    0.8900\n",
            "        11   MinMaxScaler LightGBM                          0:00:22       0.8150    0.8900\n",
            "        12   SparseNormalizer RandomForest                  0:00:21       0.8500    0.8900\n",
            "        13   MinMaxScaler LightGBM                          0:00:28       0.7850    0.8900\n",
            "        14   StandardScalerWrapper LightGBM                 0:00:22       0.7550    0.8900\n",
            "        15   StandardScalerWrapper SGD                      0:00:22       0.8350    0.8900\n",
            "        16   StandardScalerWrapper ExtremeRandomTrees       0:00:23       0.7250    0.8900\n",
            "        17   RobustScaler LightGBM                          0:00:22       0.8350    0.8900\n",
            "        18   StandardScalerWrapper LightGBM                 0:00:21       0.8150    0.8900\n",
            "        19   RobustScaler LightGBM                          0:00:27       0.7850    0.8900\n",
            "        20   MaxAbsScaler ExtremeRandomTrees                0:00:35       0.8300    0.8900\n",
            "        21   SparseNormalizer KNN                           0:00:38       0.7300    0.8900\n",
            "        22   MinMaxScaler RandomForest                      0:00:22       0.8800    0.8900\n",
            "        23   MinMaxScaler LightGBM                          0:00:22       0.8650    0.8900\n",
            "        24   MinMaxScaler ExtremeRandomTrees                0:00:24       0.8350    0.8900\n",
            "        25   StandardScalerWrapper RandomForest             0:00:23       0.8650    0.8900\n",
            "        26   RobustScaler LightGBM                          0:00:29       0.8450    0.8900\n",
            "        27   MaxAbsScaler LightGBM                          0:00:22       0.8150    0.8900\n",
            "        28   MinMaxScaler RandomForest                      0:00:22       0.8700    0.8900\n",
            "        29   MaxAbsScaler LogisticRegression                0:00:28       0.8150    0.8900\n",
            "        30   StandardScalerWrapper RandomForest             0:00:23       0.8850    0.8900\n",
            "        31   StandardScalerWrapper LightGBM                 0:00:22       0.7550    0.8900\n",
            "        32   MaxAbsScaler RandomForest                      0:00:23       0.8750    0.8900\n",
            "        33   VotingEnsemble                                 0:00:19       0.9050    0.9050\n",
            "        34   StackEnsemble                                  0:00:19       0.8800    0.9050\n",
            "Stopping criteria reached at iteration 35. Ending experiment.\n",
            "****************************************************************************************************\n",
            "Current status: BestRunExplainModel. Best run model explanations started\n",
            "Current status: ModelExplanationDataSetSetup. Model explanations data setup completed\n",
            "Current status: PickSurrogateModel. Choosing LightGBM as the surrogate model for explanations\n",
            "Current status: EngineeredFeatureExplanations. Computation of engineered features started\n",
            "Current status: EngineeredFeatureExplanations. Computation of engineered features completed\n",
            "Current status: RawFeaturesExplanations. Computation of raw features started\n",
            "Current status: RawFeaturesExplanations. Computation of raw features completed\n",
            "Current status: BestRunExplainModel. Best run model explanations completed\n",
            "****************************************************************************************************\n"
          ]
        }
      ],
      "execution_count": 14,
      "metadata": {
        "collapsed": true,
        "jupyter": {
          "source_hidden": false,
          "outputs_hidden": false
        },
        "nteract": {
          "transient": {
            "deleting": false
          }
        },
        "gather": {
          "logged": 1615034358156
        }
      }
    },
    {
      "cell_type": "markdown",
      "source": [
        "## Run Details\r\n",
        "OPTIONAL: Write about the different models trained and their performance. Why do you think some models did better than others?\r\n",
        "\r\n",
        "TODO: In the cell below, use the RunDetails widget to show the different experiments."
      ],
      "metadata": {
        "nteract": {
          "transient": {
            "deleting": false
          }
        }
      }
    },
    {
      "cell_type": "code",
      "source": [
        "from azureml.widgets import RunDetails\r\n",
        "RunDetails(remote_run).show()"
      ],
      "outputs": [
        {
          "output_type": "display_data",
          "data": {
            "text/plain": "_AutoMLWidget(widget_settings={'childWidgetDisplay': 'popup', 'send_telemetry': False, 'log_level': 'INFO', 's…",
            "application/vnd.jupyter.widget-view+json": {
              "version_major": 2,
              "version_minor": 0,
              "model_id": "9c24a4a33fc64543afce398f41774f2b"
            }
          },
          "metadata": {}
        },
        {
          "output_type": "display_data",
          "data": {
            "application/aml.mini.widget.v1": "{\"status\": \"Completed\", \"workbench_run_details_uri\": \"https://ml.azure.com/experiments/auto-ml/runs/AutoML_67ca48eb-d33e-479c-9ad2-82c679dacb51?wsid=/subscriptions/976ee174-3882-4721-b90a-b5fef6b72f24/resourcegroups/aml-quickstarts-139915/workspaces/quick-starts-ws-139915\", \"run_id\": \"AutoML_67ca48eb-d33e-479c-9ad2-82c679dacb51\", \"run_properties\": {\"run_id\": \"AutoML_67ca48eb-d33e-479c-9ad2-82c679dacb51\", \"created_utc\": \"2021-03-06T12:21:47.078251Z\", \"properties\": {\"num_iterations\": \"1000\", \"training_type\": \"TrainFull\", \"acquisition_function\": \"EI\", \"primary_metric\": \"accuracy\", \"train_split\": \"0\", \"acquisition_parameter\": \"0\", \"num_cross_validation\": \"2\", \"target\": \"local\", \"AMLSettingsJsonString\": \"{\\\"path\\\":null,\\\"name\\\":\\\"auto-ml\\\",\\\"subscription_id\\\":\\\"976ee174-3882-4721-b90a-b5fef6b72f24\\\",\\\"resource_group\\\":\\\"aml-quickstarts-139915\\\",\\\"workspace_name\\\":\\\"quick-starts-ws-139915\\\",\\\"region\\\":\\\"southcentralus\\\",\\\"compute_target\\\":\\\"local\\\",\\\"spark_service\\\":null,\\\"azure_service\\\":\\\"Microsoft.AzureNotebookVM\\\",\\\"many_models\\\":false,\\\"pipeline_fetch_max_batch_size\\\":1,\\\"iterations\\\":1000,\\\"primary_metric\\\":\\\"accuracy\\\",\\\"task_type\\\":\\\"classification\\\",\\\"data_script\\\":null,\\\"validation_size\\\":0.0,\\\"n_cross_validations\\\":2,\\\"y_min\\\":null,\\\"y_max\\\":null,\\\"num_classes\\\":2,\\\"featurization\\\":\\\"auto\\\",\\\"_ignore_package_version_incompatibilities\\\":false,\\\"is_timeseries\\\":false,\\\"max_cores_per_iteration\\\":1,\\\"max_concurrent_iterations\\\":1,\\\"iteration_timeout_minutes\\\":null,\\\"mem_in_mb\\\":null,\\\"enforce_time_on_windows\\\":false,\\\"experiment_timeout_minutes\\\":15,\\\"experiment_exit_score\\\":null,\\\"whitelist_models\\\":null,\\\"blacklist_algos\\\":[\\\"XGBoostClassifier\\\",\\\"TensorFlowLinearClassifier\\\",\\\"TensorFlowDNN\\\"],\\\"supported_models\\\":[\\\"KNN\\\",\\\"TensorFlowLinearClassifier\\\",\\\"BernoulliNaiveBayes\\\",\\\"MultinomialNaiveBayes\\\",\\\"LinearSVM\\\",\\\"XGBoostClassifier\\\",\\\"GradientBoosting\\\",\\\"SVM\\\",\\\"LogisticRegression\\\",\\\"TensorFlowDNN\\\",\\\"RandomForest\\\",\\\"AveragedPerceptronClassifier\\\",\\\"SGD\\\",\\\"ExtremeRandomTrees\\\",\\\"LightGBM\\\",\\\"DecisionTree\\\"],\\\"private_models\\\":[],\\\"auto_blacklist\\\":true,\\\"blacklist_samples_reached\\\":false,\\\"exclude_nan_labels\\\":true,\\\"verbosity\\\":20,\\\"_debug_log\\\":\\\"automl.log\\\",\\\"show_warnings\\\":false,\\\"model_explainability\\\":true,\\\"service_url\\\":null,\\\"sdk_url\\\":null,\\\"sdk_packages\\\":null,\\\"enable_onnx_compatible_models\\\":false,\\\"enable_split_onnx_featurizer_estimator_models\\\":false,\\\"vm_type\\\":null,\\\"telemetry_verbosity\\\":20,\\\"send_telemetry\\\":true,\\\"enable_dnn\\\":false,\\\"scenario\\\":\\\"SDK-1.13.0\\\",\\\"environment_label\\\":null,\\\"force_text_dnn\\\":false,\\\"enable_feature_sweeping\\\":true,\\\"enable_early_stopping\\\":false,\\\"early_stopping_n_iters\\\":10,\\\"metrics\\\":null,\\\"enable_ensembling\\\":true,\\\"enable_stack_ensembling\\\":true,\\\"ensemble_iterations\\\":15,\\\"enable_tf\\\":false,\\\"enable_subsampling\\\":null,\\\"subsample_seed\\\":null,\\\"enable_nimbusml\\\":false,\\\"enable_streaming\\\":false,\\\"force_streaming\\\":false,\\\"track_child_runs\\\":true,\\\"allowed_private_models\\\":[],\\\"label_column_name\\\":\\\"DEATH_EVENT\\\",\\\"weight_column_name\\\":null,\\\"cv_split_column_names\\\":null,\\\"enable_local_managed\\\":false,\\\"_local_managed_run_id\\\":null,\\\"cost_mode\\\":1,\\\"lag_length\\\":0,\\\"metric_operation\\\":\\\"maximize\\\",\\\"preprocess\\\":true}\", \"DataPrepJsonString\": null, \"EnableSubsampling\": null, \"runTemplate\": \"AutoML\", \"azureml.runsource\": \"automl\", \"display_task_type\": \"classification\", \"dependencies_versions\": \"{\\\"azureml-widgets\\\": \\\"1.22.0\\\", \\\"azureml-train\\\": \\\"1.22.0\\\", \\\"azureml-train-restclients-hyperdrive\\\": \\\"1.22.0\\\", \\\"azureml-train-core\\\": \\\"1.22.0\\\", \\\"azureml-train-automl\\\": \\\"1.22.0\\\", \\\"azureml-train-automl-runtime\\\": \\\"1.22.0\\\", \\\"azureml-train-automl-client\\\": \\\"1.22.0\\\", \\\"azureml-tensorboard\\\": \\\"1.22.0\\\", \\\"azureml-telemetry\\\": \\\"1.22.0\\\", \\\"azureml-sdk\\\": \\\"1.22.0\\\", \\\"azureml-samples\\\": \\\"0+unknown\\\", \\\"azureml-pipeline\\\": \\\"1.22.0\\\", \\\"azureml-pipeline-steps\\\": \\\"1.22.0\\\", \\\"azureml-pipeline-core\\\": \\\"1.22.0\\\", \\\"azureml-opendatasets\\\": \\\"1.22.0\\\", \\\"azureml-model-management-sdk\\\": \\\"1.0.1b6.post1\\\", \\\"azureml-mlflow\\\": \\\"1.22.0\\\", \\\"azureml-interpret\\\": \\\"1.22.0\\\", \\\"azureml-explain-model\\\": \\\"1.22.0\\\", \\\"azureml-defaults\\\": \\\"1.22.0\\\", \\\"azureml-dataset-runtime\\\": \\\"1.22.0\\\", \\\"azureml-dataprep\\\": \\\"2.9.1\\\", \\\"azureml-dataprep-rslex\\\": \\\"1.7.0\\\", \\\"azureml-dataprep-native\\\": \\\"29.0.0\\\", \\\"azureml-datadrift\\\": \\\"1.22.0\\\", \\\"azureml-core\\\": \\\"1.22.0\\\", \\\"azureml-contrib-services\\\": \\\"1.22.0\\\", \\\"azureml-contrib-server\\\": \\\"1.22.0\\\", \\\"azureml-contrib-reinforcementlearning\\\": \\\"1.22.0\\\", \\\"azureml-contrib-pipeline-steps\\\": \\\"1.22.0\\\", \\\"azureml-contrib-notebook\\\": \\\"1.22.0\\\", \\\"azureml-contrib-interpret\\\": \\\"1.22.0\\\", \\\"azureml-contrib-gbdt\\\": \\\"1.22.0\\\", \\\"azureml-contrib-fairness\\\": \\\"1.22.0\\\", \\\"azureml-contrib-dataset\\\": \\\"1.22.0\\\", \\\"azureml-cli-common\\\": \\\"1.22.0\\\", \\\"azureml-automl-runtime\\\": \\\"1.22.0\\\", \\\"azureml-automl-core\\\": \\\"1.22.0\\\", \\\"azureml-accel-models\\\": \\\"1.22.0\\\"}\", \"_aml_system_scenario_identification\": \"Local.Parent\", \"ClientSdkVersion\": \"1.22.0\", \"ClientType\": \"SDK\", \"environment_cpu_name\": \"AzureML-AutoML\", \"environment_cpu_label\": \"prod\", \"environment_gpu_name\": \"AzureML-AutoML-GPU\", \"environment_gpu_label\": \"prod\", \"root_attribution\": \"automl\", \"attribution\": \"AutoML\", \"Orchestrator\": \"AutoML\", \"_azureml.ComputeTargetType\": \"local\", \"ProblemInfoJsonString\": \"{\\\"dataset_num_categorical\\\": 0, \\\"is_sparse\\\": false, \\\"subsampling\\\": false, \\\"dataset_classes\\\": 2, \\\"dataset_features\\\": 12, \\\"dataset_samples\\\": 200, \\\"single_frequency_class_detected\\\": false}\", \"feature_skus\": \"automatedml_sdk_guardrails\"}, \"tags\": {\"model_explain_run\": \"best_run\", \"best_score\": \"0.905\", \"best_pipeline\": \"VotingEnsemble\", \"automl_best_child_run_id\": \"AutoML_67ca48eb-d33e-479c-9ad2-82c679dacb51_33\", \"model_explain_best_run_child_id\": \"AutoML_67ca48eb-d33e-479c-9ad2-82c679dacb51_33\"}, \"end_time_utc\": \"2021-03-06T12:37:33.934386Z\", \"status\": \"Completed\", \"log_files\": {}, \"log_groups\": [], \"run_duration\": \"0:15:46\", \"run_number\": \"1\", \"run_queued_details\": {\"status\": \"Completed\", \"details\": null}}, \"child_runs\": [{\"run_id\": \"AutoML_67ca48eb-d33e-479c-9ad2-82c679dacb51_0\", \"run_number\": 2, \"metric\": null, \"status\": \"Completed\", \"run_type\": null, \"training_percent\": \"100\", \"start_time\": \"2021-03-06T12:22:00.562643Z\", \"end_time\": \"2021-03-06T12:22:25.237319Z\", \"created_time\": \"2021-03-06T12:22:00.460204Z\", \"created_time_dt\": \"2021-03-06T12:22:00.460204Z\", \"duration\": \"0:00:24\", \"iteration\": \"0\", \"goal\": \"accuracy_max\", \"run_name\": \"MaxAbsScaler, LightGBM\", \"run_properties\": \"copy=True\", \"primary_metric\": 0.81, \"best_metric\": 0.81}, {\"run_id\": \"AutoML_67ca48eb-d33e-479c-9ad2-82c679dacb51_1\", \"run_number\": 3, \"metric\": null, \"status\": \"Completed\", \"run_type\": null, \"training_percent\": \"100\", \"start_time\": \"2021-03-06T12:22:25.85245Z\", \"end_time\": \"2021-03-06T12:22:53.40051Z\", \"created_time\": \"2021-03-06T12:22:25.748802Z\", \"created_time_dt\": \"2021-03-06T12:22:25.748802Z\", \"duration\": \"0:00:27\", \"iteration\": \"1\", \"goal\": \"accuracy_max\", \"run_name\": \"MinMaxScaler, RandomForest\", \"run_properties\": \"copy=True, feature_range=(0, 1\", \"primary_metric\": 0.875, \"best_metric\": 0.875}, {\"run_id\": \"AutoML_67ca48eb-d33e-479c-9ad2-82c679dacb51_2\", \"run_number\": 4, \"metric\": null, \"status\": \"Completed\", \"run_type\": null, \"training_percent\": \"100\", \"start_time\": \"2021-03-06T12:22:54.448274Z\", \"end_time\": \"2021-03-06T12:23:16.352063Z\", \"created_time\": \"2021-03-06T12:22:54.361688Z\", \"created_time_dt\": \"2021-03-06T12:22:54.361688Z\", \"duration\": \"0:00:21\", \"iteration\": \"2\", \"goal\": \"accuracy_max\", \"run_name\": \"MinMaxScaler, RandomForest\", \"run_properties\": \"copy=True, feature_range=(0, 1\", \"primary_metric\": 0.87, \"best_metric\": 0.875}, {\"run_id\": \"AutoML_67ca48eb-d33e-479c-9ad2-82c679dacb51_3\", \"run_number\": 5, \"metric\": null, \"status\": \"Completed\", \"run_type\": null, \"training_percent\": \"100\", \"start_time\": \"2021-03-06T12:23:17.53005Z\", \"end_time\": \"2021-03-06T12:23:39.565259Z\", \"created_time\": \"2021-03-06T12:23:17.436948Z\", \"created_time_dt\": \"2021-03-06T12:23:17.436948Z\", \"duration\": \"0:00:22\", \"iteration\": \"3\", \"goal\": \"accuracy_max\", \"run_name\": \"MinMaxScaler, RandomForest\", \"run_properties\": \"copy=True, feature_range=(0, 1\", \"primary_metric\": 0.89, \"best_metric\": 0.89}, {\"run_id\": \"AutoML_67ca48eb-d33e-479c-9ad2-82c679dacb51_4\", \"run_number\": 6, \"metric\": null, \"status\": \"Completed\", \"run_type\": null, \"training_percent\": \"100\", \"start_time\": \"2021-03-06T12:23:41.091038Z\", \"end_time\": \"2021-03-06T12:24:09.008317Z\", \"created_time\": \"2021-03-06T12:23:40.993103Z\", \"created_time_dt\": \"2021-03-06T12:23:40.993103Z\", \"duration\": \"0:00:28\", \"iteration\": \"4\", \"goal\": \"accuracy_max\", \"run_name\": \"MinMaxScaler, RandomForest\", \"run_properties\": \"copy=True, feature_range=(0, 1\", \"primary_metric\": 0.835, \"best_metric\": 0.89}, {\"run_id\": \"AutoML_67ca48eb-d33e-479c-9ad2-82c679dacb51_5\", \"run_number\": 7, \"metric\": null, \"status\": \"Completed\", \"run_type\": null, \"training_percent\": \"100\", \"start_time\": \"2021-03-06T12:24:10.257522Z\", \"end_time\": \"2021-03-06T12:24:32.564628Z\", \"created_time\": \"2021-03-06T12:24:10.163937Z\", \"created_time_dt\": \"2021-03-06T12:24:10.163937Z\", \"duration\": \"0:00:22\", \"iteration\": \"5\", \"goal\": \"accuracy_max\", \"run_name\": \"MinMaxScaler, SVM\", \"run_properties\": \"copy=True, feature_range=(0, 1\", \"primary_metric\": 0.8, \"best_metric\": 0.89}, {\"run_id\": \"AutoML_67ca48eb-d33e-479c-9ad2-82c679dacb51_6\", \"run_number\": 8, \"metric\": null, \"status\": \"Completed\", \"run_type\": null, \"training_percent\": \"100\", \"start_time\": \"2021-03-06T12:24:34.314009Z\", \"end_time\": \"2021-03-06T12:25:00.591598Z\", \"created_time\": \"2021-03-06T12:24:34.215731Z\", \"created_time_dt\": \"2021-03-06T12:24:34.215731Z\", \"duration\": \"0:00:26\", \"iteration\": \"6\", \"goal\": \"accuracy_max\", \"run_name\": \"MaxAbsScaler, GradientBoosting\", \"run_properties\": \"copy=True\", \"primary_metric\": 0.88, \"best_metric\": 0.89}, {\"run_id\": \"AutoML_67ca48eb-d33e-479c-9ad2-82c679dacb51_7\", \"run_number\": 9, \"metric\": null, \"status\": \"Completed\", \"run_type\": null, \"training_percent\": \"100\", \"start_time\": \"2021-03-06T12:25:01.782775Z\", \"end_time\": \"2021-03-06T12:25:33.554645Z\", \"created_time\": \"2021-03-06T12:25:01.691826Z\", \"created_time_dt\": \"2021-03-06T12:25:01.691826Z\", \"duration\": \"0:00:31\", \"iteration\": \"7\", \"goal\": \"accuracy_max\", \"run_name\": \"MaxAbsScaler, ExtremeRandomTrees\", \"run_properties\": \"copy=True\", \"primary_metric\": 0.825, \"best_metric\": 0.89}, {\"run_id\": \"AutoML_67ca48eb-d33e-479c-9ad2-82c679dacb51_8\", \"run_number\": 10, \"metric\": null, \"status\": \"Completed\", \"run_type\": null, \"training_percent\": \"100\", \"start_time\": \"2021-03-06T12:25:36.09392Z\", \"end_time\": \"2021-03-06T12:26:09.59695Z\", \"created_time\": \"2021-03-06T12:25:35.650542Z\", \"created_time_dt\": \"2021-03-06T12:25:35.650542Z\", \"duration\": \"0:00:33\", \"iteration\": \"8\", \"goal\": \"accuracy_max\", \"run_name\": \"StandardScalerWrapper, RandomForest\", \"run_properties\": \"<azureml.automl.runtime.shared.model_wrappers.StandardScalerWrapper object at 0x7f7497d31898\", \"primary_metric\": 0.865, \"best_metric\": 0.89}, {\"run_id\": \"AutoML_67ca48eb-d33e-479c-9ad2-82c679dacb51_9\", \"run_number\": 11, \"metric\": null, \"status\": \"Completed\", \"run_type\": null, \"training_percent\": \"100\", \"start_time\": \"2021-03-06T12:26:12.078892Z\", \"end_time\": \"2021-03-06T12:26:41.627172Z\", \"created_time\": \"2021-03-06T12:26:11.714567Z\", \"created_time_dt\": \"2021-03-06T12:26:11.714567Z\", \"duration\": \"0:00:29\", \"iteration\": \"9\", \"goal\": \"accuracy_max\", \"run_name\": \"RobustScaler, ExtremeRandomTrees\", \"run_properties\": \"copy=True, quantile_range=[25, 75], with_centering=True,\\n             with_scaling=False\", \"primary_metric\": 0.89, \"best_metric\": 0.89}, {\"run_id\": \"AutoML_67ca48eb-d33e-479c-9ad2-82c679dacb51_10\", \"run_number\": 12, \"metric\": null, \"status\": \"Completed\", \"run_type\": null, \"training_percent\": \"100\", \"start_time\": \"2021-03-06T12:26:42.971635Z\", \"end_time\": \"2021-03-06T12:27:09.541472Z\", \"created_time\": \"2021-03-06T12:26:42.877618Z\", \"created_time_dt\": \"2021-03-06T12:26:42.877618Z\", \"duration\": \"0:00:26\", \"iteration\": \"10\", \"goal\": \"accuracy_max\", \"run_name\": \"MaxAbsScaler, LightGBM\", \"run_properties\": \"copy=True\", \"primary_metric\": 0.8, \"best_metric\": 0.89}, {\"run_id\": \"AutoML_67ca48eb-d33e-479c-9ad2-82c679dacb51_11\", \"run_number\": 13, \"metric\": null, \"status\": \"Completed\", \"run_type\": null, \"training_percent\": \"100\", \"start_time\": \"2021-03-06T12:27:10.873817Z\", \"end_time\": \"2021-03-06T12:27:33.489887Z\", \"created_time\": \"2021-03-06T12:27:10.774585Z\", \"created_time_dt\": \"2021-03-06T12:27:10.774585Z\", \"duration\": \"0:00:22\", \"iteration\": \"11\", \"goal\": \"accuracy_max\", \"run_name\": \"MinMaxScaler, LightGBM\", \"run_properties\": \"copy=True, feature_range=(0, 1\", \"primary_metric\": 0.815, \"best_metric\": 0.89}, {\"run_id\": \"AutoML_67ca48eb-d33e-479c-9ad2-82c679dacb51_12\", \"run_number\": 14, \"metric\": null, \"status\": \"Completed\", \"run_type\": null, \"training_percent\": \"100\", \"start_time\": \"2021-03-06T12:27:34.820371Z\", \"end_time\": \"2021-03-06T12:27:56.22375Z\", \"created_time\": \"2021-03-06T12:27:34.699997Z\", \"created_time_dt\": \"2021-03-06T12:27:34.699997Z\", \"duration\": \"0:00:21\", \"iteration\": \"12\", \"goal\": \"accuracy_max\", \"run_name\": \"SparseNormalizer, RandomForest\", \"run_properties\": \"<azureml.automl.runtime.shared.model_wrappers.SparseNormalizer object at 0x7f7497c18198\", \"primary_metric\": 0.85, \"best_metric\": 0.89}, {\"run_id\": \"AutoML_67ca48eb-d33e-479c-9ad2-82c679dacb51_13\", \"run_number\": 15, \"metric\": null, \"status\": \"Completed\", \"run_type\": null, \"training_percent\": \"100\", \"start_time\": \"2021-03-06T12:27:57.509701Z\", \"end_time\": \"2021-03-06T12:28:25.600843Z\", \"created_time\": \"2021-03-06T12:27:57.410182Z\", \"created_time_dt\": \"2021-03-06T12:27:57.410182Z\", \"duration\": \"0:00:28\", \"iteration\": \"13\", \"goal\": \"accuracy_max\", \"run_name\": \"MinMaxScaler, LightGBM\", \"run_properties\": \"copy=True, feature_range=(0, 1\", \"primary_metric\": 0.785, \"best_metric\": 0.89}, {\"run_id\": \"AutoML_67ca48eb-d33e-479c-9ad2-82c679dacb51_14\", \"run_number\": 16, \"metric\": null, \"status\": \"Completed\", \"run_type\": null, \"training_percent\": \"100\", \"start_time\": \"2021-03-06T12:28:26.801073Z\", \"end_time\": \"2021-03-06T12:28:49.157227Z\", \"created_time\": \"2021-03-06T12:28:26.681661Z\", \"created_time_dt\": \"2021-03-06T12:28:26.681661Z\", \"duration\": \"0:00:22\", \"iteration\": \"14\", \"goal\": \"accuracy_max\", \"run_name\": \"StandardScalerWrapper, LightGBM\", \"run_properties\": \"<azureml.automl.runtime.shared.model_wrappers.StandardScalerWrapper object at 0x7f7497ca8198\", \"primary_metric\": 0.755, \"best_metric\": 0.89}, {\"run_id\": \"AutoML_67ca48eb-d33e-479c-9ad2-82c679dacb51_15\", \"run_number\": 17, \"metric\": null, \"status\": \"Completed\", \"run_type\": null, \"training_percent\": \"100\", \"start_time\": \"2021-03-06T12:28:50.505071Z\", \"end_time\": \"2021-03-06T12:29:12.607132Z\", \"created_time\": \"2021-03-06T12:28:50.415153Z\", \"created_time_dt\": \"2021-03-06T12:28:50.415153Z\", \"duration\": \"0:00:22\", \"iteration\": \"15\", \"goal\": \"accuracy_max\", \"run_name\": \"StandardScalerWrapper, SGD\", \"run_properties\": \"<azureml.automl.runtime.shared.model_wrappers.StandardScalerWrapper object at 0x7f7497c84be0\", \"primary_metric\": 0.835, \"best_metric\": 0.89}, {\"run_id\": \"AutoML_67ca48eb-d33e-479c-9ad2-82c679dacb51_16\", \"run_number\": 18, \"metric\": null, \"status\": \"Completed\", \"run_type\": null, \"training_percent\": \"100\", \"start_time\": \"2021-03-06T12:29:14.42557Z\", \"end_time\": \"2021-03-06T12:29:37.788072Z\", \"created_time\": \"2021-03-06T12:29:14.311889Z\", \"created_time_dt\": \"2021-03-06T12:29:14.311889Z\", \"duration\": \"0:00:23\", \"iteration\": \"16\", \"goal\": \"accuracy_max\", \"run_name\": \"StandardScalerWrapper, ExtremeRandomTrees\", \"run_properties\": \"<azureml.automl.runtime.shared.model_wrappers.StandardScalerWrapper object at 0x7f7497b5a2b0\", \"primary_metric\": 0.725, \"best_metric\": 0.89}, {\"run_id\": \"AutoML_67ca48eb-d33e-479c-9ad2-82c679dacb51_17\", \"run_number\": 19, \"metric\": null, \"status\": \"Completed\", \"run_type\": null, \"training_percent\": \"100\", \"start_time\": \"2021-03-06T12:29:38.967905Z\", \"end_time\": \"2021-03-06T12:30:01.188475Z\", \"created_time\": \"2021-03-06T12:29:38.861757Z\", \"created_time_dt\": \"2021-03-06T12:29:38.861757Z\", \"duration\": \"0:00:22\", \"iteration\": \"17\", \"goal\": \"accuracy_max\", \"run_name\": \"RobustScaler, LightGBM\", \"run_properties\": \"copy=True, quantile_range=[25, 75], with_centering=False,\\n             with_scaling=False\", \"primary_metric\": 0.835, \"best_metric\": 0.89}, {\"run_id\": \"AutoML_67ca48eb-d33e-479c-9ad2-82c679dacb51_18\", \"run_number\": 20, \"metric\": null, \"status\": \"Completed\", \"run_type\": null, \"training_percent\": \"100\", \"start_time\": \"2021-03-06T12:30:02.465046Z\", \"end_time\": \"2021-03-06T12:30:24.244264Z\", \"created_time\": \"2021-03-06T12:30:02.365006Z\", \"created_time_dt\": \"2021-03-06T12:30:02.365006Z\", \"duration\": \"0:00:21\", \"iteration\": \"18\", \"goal\": \"accuracy_max\", \"run_name\": \"StandardScalerWrapper, LightGBM\", \"run_properties\": \"<azureml.automl.runtime.shared.model_wrappers.StandardScalerWrapper object at 0x7f7497b9c4e0\", \"primary_metric\": 0.815, \"best_metric\": 0.89}, {\"run_id\": \"AutoML_67ca48eb-d33e-479c-9ad2-82c679dacb51_19\", \"run_number\": 21, \"metric\": null, \"status\": \"Completed\", \"run_type\": null, \"training_percent\": \"100\", \"start_time\": \"2021-03-06T12:30:25.451317Z\", \"end_time\": \"2021-03-06T12:30:52.65419Z\", \"created_time\": \"2021-03-06T12:30:25.344881Z\", \"created_time_dt\": \"2021-03-06T12:30:25.344881Z\", \"duration\": \"0:00:27\", \"iteration\": \"19\", \"goal\": \"accuracy_max\", \"run_name\": \"RobustScaler, LightGBM\", \"run_properties\": \"copy=True, quantile_range=[25, 75], with_centering=False,\\n             with_scaling=False\", \"primary_metric\": 0.785, \"best_metric\": 0.89}, {\"run_id\": \"AutoML_67ca48eb-d33e-479c-9ad2-82c679dacb51_20\", \"run_number\": 22, \"metric\": null, \"status\": \"Completed\", \"run_type\": null, \"training_percent\": \"100\", \"start_time\": \"2021-03-06T12:30:53.892869Z\", \"end_time\": \"2021-03-06T12:31:28.894934Z\", \"created_time\": \"2021-03-06T12:30:53.801808Z\", \"created_time_dt\": \"2021-03-06T12:30:53.801808Z\", \"duration\": \"0:00:35\", \"iteration\": \"20\", \"goal\": \"accuracy_max\", \"run_name\": \"MaxAbsScaler, ExtremeRandomTrees\", \"run_properties\": \"copy=True\", \"primary_metric\": 0.83, \"best_metric\": 0.89}, {\"run_id\": \"AutoML_67ca48eb-d33e-479c-9ad2-82c679dacb51_21\", \"run_number\": 23, \"metric\": null, \"status\": \"Completed\", \"run_type\": null, \"training_percent\": \"100\", \"start_time\": \"2021-03-06T12:31:31.457283Z\", \"end_time\": \"2021-03-06T12:32:10.040185Z\", \"created_time\": \"2021-03-06T12:31:31.04167Z\", \"created_time_dt\": \"2021-03-06T12:31:31.04167Z\", \"duration\": \"0:00:38\", \"iteration\": \"21\", \"goal\": \"accuracy_max\", \"run_name\": \"SparseNormalizer, KNN\", \"run_properties\": \"<azureml.automl.runtime.shared.model_wrappers.SparseNormalizer object at 0x7f73692545f8\", \"primary_metric\": 0.73, \"best_metric\": 0.89}, {\"run_id\": \"AutoML_67ca48eb-d33e-479c-9ad2-82c679dacb51_22\", \"run_number\": 24, \"metric\": null, \"status\": \"Completed\", \"run_type\": null, \"training_percent\": \"100\", \"start_time\": \"2021-03-06T12:32:11.266284Z\", \"end_time\": \"2021-03-06T12:32:33.323945Z\", \"created_time\": \"2021-03-06T12:32:11.153518Z\", \"created_time_dt\": \"2021-03-06T12:32:11.153518Z\", \"duration\": \"0:00:22\", \"iteration\": \"22\", \"goal\": \"accuracy_max\", \"run_name\": \"MinMaxScaler, RandomForest\", \"run_properties\": \"copy=True, feature_range=(0, 1\", \"primary_metric\": 0.88, \"best_metric\": 0.89}, {\"run_id\": \"AutoML_67ca48eb-d33e-479c-9ad2-82c679dacb51_23\", \"run_number\": 25, \"metric\": null, \"status\": \"Completed\", \"run_type\": null, \"training_percent\": \"100\", \"start_time\": \"2021-03-06T12:32:34.682473Z\", \"end_time\": \"2021-03-06T12:32:57.369633Z\", \"created_time\": \"2021-03-06T12:32:34.58725Z\", \"created_time_dt\": \"2021-03-06T12:32:34.58725Z\", \"duration\": \"0:00:22\", \"iteration\": \"23\", \"goal\": \"accuracy_max\", \"run_name\": \"MinMaxScaler, LightGBM\", \"run_properties\": \"copy=True, feature_range=(0, 1\", \"primary_metric\": 0.865, \"best_metric\": 0.89}, {\"run_id\": \"AutoML_67ca48eb-d33e-479c-9ad2-82c679dacb51_24\", \"run_number\": 26, \"metric\": null, \"status\": \"Completed\", \"run_type\": null, \"training_percent\": \"100\", \"start_time\": \"2021-03-06T12:32:58.674259Z\", \"end_time\": \"2021-03-06T12:33:22.880068Z\", \"created_time\": \"2021-03-06T12:32:58.548765Z\", \"created_time_dt\": \"2021-03-06T12:32:58.548765Z\", \"duration\": \"0:00:24\", \"iteration\": \"24\", \"goal\": \"accuracy_max\", \"run_name\": \"MinMaxScaler, ExtremeRandomTrees\", \"run_properties\": \"copy=True, feature_range=(0, 1\", \"primary_metric\": 0.835, \"best_metric\": 0.89}, {\"run_id\": \"AutoML_67ca48eb-d33e-479c-9ad2-82c679dacb51_25\", \"run_number\": 27, \"metric\": null, \"status\": \"Completed\", \"run_type\": null, \"training_percent\": \"100\", \"start_time\": \"2021-03-06T12:33:25.206445Z\", \"end_time\": \"2021-03-06T12:33:48.784744Z\", \"created_time\": \"2021-03-06T12:33:25.098208Z\", \"created_time_dt\": \"2021-03-06T12:33:25.098208Z\", \"duration\": \"0:00:23\", \"iteration\": \"25\", \"goal\": \"accuracy_max\", \"run_name\": \"StandardScalerWrapper, RandomForest\", \"run_properties\": \"<azureml.automl.runtime.shared.model_wrappers.StandardScalerWrapper object at 0x7f73691ee128\", \"primary_metric\": 0.865, \"best_metric\": 0.89}, {\"run_id\": \"AutoML_67ca48eb-d33e-479c-9ad2-82c679dacb51_26\", \"run_number\": 28, \"metric\": null, \"status\": \"Completed\", \"run_type\": null, \"training_percent\": \"100\", \"start_time\": \"2021-03-06T12:33:50.030953Z\", \"end_time\": \"2021-03-06T12:34:19.824643Z\", \"created_time\": \"2021-03-06T12:33:49.922234Z\", \"created_time_dt\": \"2021-03-06T12:33:49.922234Z\", \"duration\": \"0:00:29\", \"iteration\": \"26\", \"goal\": \"accuracy_max\", \"run_name\": \"RobustScaler, LightGBM\", \"run_properties\": \"copy=True, quantile_range=[10, 90], with_centering=True,\\n             with_scaling=True\", \"primary_metric\": 0.845, \"best_metric\": 0.89}, {\"run_id\": \"AutoML_67ca48eb-d33e-479c-9ad2-82c679dacb51_27\", \"run_number\": 29, \"metric\": null, \"status\": \"Completed\", \"run_type\": null, \"training_percent\": \"100\", \"start_time\": \"2021-03-06T12:34:21.607598Z\", \"end_time\": \"2021-03-06T12:34:44.04364Z\", \"created_time\": \"2021-03-06T12:34:21.502043Z\", \"created_time_dt\": \"2021-03-06T12:34:21.502043Z\", \"duration\": \"0:00:22\", \"iteration\": \"27\", \"goal\": \"accuracy_max\", \"run_name\": \"MaxAbsScaler, LightGBM\", \"run_properties\": \"copy=True\", \"primary_metric\": 0.815, \"best_metric\": 0.89}, {\"run_id\": \"AutoML_67ca48eb-d33e-479c-9ad2-82c679dacb51_28\", \"run_number\": 30, \"metric\": null, \"status\": \"Completed\", \"run_type\": null, \"training_percent\": \"100\", \"start_time\": \"2021-03-06T12:34:45.33033Z\", \"end_time\": \"2021-03-06T12:35:08.206859Z\", \"created_time\": \"2021-03-06T12:34:45.235186Z\", \"created_time_dt\": \"2021-03-06T12:34:45.235186Z\", \"duration\": \"0:00:22\", \"iteration\": \"28\", \"goal\": \"accuracy_max\", \"run_name\": \"MinMaxScaler, RandomForest\", \"run_properties\": \"copy=True, feature_range=(0, 1\", \"primary_metric\": 0.87, \"best_metric\": 0.89}, {\"run_id\": \"AutoML_67ca48eb-d33e-479c-9ad2-82c679dacb51_29\", \"run_number\": 31, \"metric\": null, \"status\": \"Completed\", \"run_type\": null, \"training_percent\": \"100\", \"start_time\": \"2021-03-06T12:35:09.488718Z\", \"end_time\": \"2021-03-06T12:35:38.015224Z\", \"created_time\": \"2021-03-06T12:35:09.382734Z\", \"created_time_dt\": \"2021-03-06T12:35:09.382734Z\", \"duration\": \"0:00:28\", \"iteration\": \"29\", \"goal\": \"accuracy_max\", \"run_name\": \"MaxAbsScaler, LogisticRegression\", \"run_properties\": \"copy=True\", \"primary_metric\": 0.815, \"best_metric\": 0.89}, {\"run_id\": \"AutoML_67ca48eb-d33e-479c-9ad2-82c679dacb51_30\", \"run_number\": 32, \"metric\": null, \"status\": \"Completed\", \"run_type\": null, \"training_percent\": \"100\", \"start_time\": \"2021-03-06T12:35:40.22736Z\", \"end_time\": \"2021-03-06T12:36:03.407327Z\", \"created_time\": \"2021-03-06T12:35:40.121846Z\", \"created_time_dt\": \"2021-03-06T12:35:40.121846Z\", \"duration\": \"0:00:23\", \"iteration\": \"30\", \"goal\": \"accuracy_max\", \"run_name\": \"StandardScalerWrapper, RandomForest\", \"run_properties\": \"<azureml.automl.runtime.shared.model_wrappers.StandardScalerWrapper object at 0x7f737830e048\", \"primary_metric\": 0.885, \"best_metric\": 0.89}, {\"run_id\": \"AutoML_67ca48eb-d33e-479c-9ad2-82c679dacb51_31\", \"run_number\": 33, \"metric\": null, \"status\": \"Completed\", \"run_type\": null, \"training_percent\": \"100\", \"start_time\": \"2021-03-06T12:36:04.686969Z\", \"end_time\": \"2021-03-06T12:36:26.727143Z\", \"created_time\": \"2021-03-06T12:36:04.588597Z\", \"created_time_dt\": \"2021-03-06T12:36:04.588597Z\", \"duration\": \"0:00:22\", \"iteration\": \"31\", \"goal\": \"accuracy_max\", \"run_name\": \"StandardScalerWrapper, LightGBM\", \"run_properties\": \"<azureml.automl.runtime.shared.model_wrappers.StandardScalerWrapper object at 0x7f7497af9630\", \"primary_metric\": 0.755, \"best_metric\": 0.89}, {\"run_id\": \"AutoML_67ca48eb-d33e-479c-9ad2-82c679dacb51_32\", \"run_number\": 34, \"metric\": null, \"status\": \"Completed\", \"run_type\": null, \"training_percent\": \"100\", \"start_time\": \"2021-03-06T12:36:27.967555Z\", \"end_time\": \"2021-03-06T12:36:51.482236Z\", \"created_time\": \"2021-03-06T12:36:27.873372Z\", \"created_time_dt\": \"2021-03-06T12:36:27.873372Z\", \"duration\": \"0:00:23\", \"iteration\": \"32\", \"goal\": \"accuracy_max\", \"run_name\": \"MaxAbsScaler, RandomForest\", \"run_properties\": \"copy=True\", \"primary_metric\": 0.875, \"best_metric\": 0.89}, {\"run_id\": \"AutoML_67ca48eb-d33e-479c-9ad2-82c679dacb51_33\", \"run_number\": 35, \"metric\": null, \"status\": \"Completed\", \"run_type\": null, \"training_percent\": \"100\", \"start_time\": \"2021-03-06T12:36:51.803775Z\", \"end_time\": \"2021-03-06T12:37:11.49021Z\", \"created_time\": \"2021-03-06T12:36:51.703477Z\", \"created_time_dt\": \"2021-03-06T12:36:51.703477Z\", \"duration\": \"0:00:19\", \"iteration\": \"33\", \"goal\": \"accuracy_max\", \"run_name\": \"VotingEnsemble\", \"run_properties\": \"classification_labels=None,\\n                              estimators=[('9',\\n                                           Pipeline(memory=None,\\n                                                    steps=[('robustscaler',\\n                                                            RobustScaler(copy=True,\\n                                                                         quantile_range=[25,\\n                                                                                         75],\\n                                                                         with_centering=True,\\n                                                                         with_scaling=False\", \"primary_metric\": 0.905, \"best_metric\": 0.905}, {\"run_id\": \"AutoML_67ca48eb-d33e-479c-9ad2-82c679dacb51_34\", \"run_number\": 36, \"metric\": null, \"status\": \"Completed\", \"run_type\": null, \"training_percent\": \"100\", \"start_time\": \"2021-03-06T12:37:11.809296Z\", \"end_time\": \"2021-03-06T12:37:31.6481Z\", \"created_time\": \"2021-03-06T12:37:11.702657Z\", \"created_time_dt\": \"2021-03-06T12:37:11.702657Z\", \"duration\": \"0:00:19\", \"iteration\": \"34\", \"goal\": \"accuracy_max\", \"run_name\": \"StackEnsemble\", \"run_properties\": \"base_learners=[('9',\\n                                        Pipeline(memory=None,\\n                                                 steps=[('robustscaler',\\n                                                         RobustScaler(copy=True,\\n                                                                      quantile_range=[25,\\n                                                                                      75],\\n                                                                      with_centering=True,\\n                                                                      with_scaling=False\", \"primary_metric\": 0.88, \"best_metric\": 0.905}], \"children_metrics\": {\"categories\": [0], \"series\": {\"accuracy\": [{\"categories\": [\"0\", \"1\", \"2\", \"3\", \"4\", \"5\", \"6\", \"7\", \"8\", \"9\", \"10\", \"11\", \"12\", \"13\", \"14\", \"15\", \"16\", \"17\", \"18\", \"19\", \"20\", \"21\", \"22\", \"23\", \"24\", \"25\", \"26\", \"27\", \"28\", \"29\", \"30\", \"31\", \"32\", \"33\", \"34\"], \"mode\": \"markers\", \"name\": \"accuracy\", \"stepped\": false, \"type\": \"scatter\", \"data\": [0.81, 0.875, 0.87, 0.89, 0.835, 0.8, 0.88, 0.825, 0.865, 0.89, 0.8, 0.815, 0.85, 0.785, 0.755, 0.835, 0.725, 0.835, 0.815, 0.785, 0.8300000000000001, 0.73, 0.88, 0.865, 0.835, 0.865, 0.845, 0.815, 0.87, 0.815, 0.885, 0.755, 0.875, 0.905, 0.88]}, {\"categories\": [\"0\", \"1\", \"2\", \"3\", \"4\", \"5\", \"6\", \"7\", \"8\", \"9\", \"10\", \"11\", \"12\", \"13\", \"14\", \"15\", \"16\", \"17\", \"18\", \"19\", \"20\", \"21\", \"22\", \"23\", \"24\", \"25\", \"26\", \"27\", \"28\", \"29\", \"30\", \"31\", \"32\", \"33\", \"34\"], \"mode\": \"lines\", \"name\": \"accuracy_max\", \"stepped\": true, \"type\": \"scatter\", \"data\": [0.81, 0.875, 0.875, 0.89, 0.89, 0.89, 0.89, 0.89, 0.89, 0.89, 0.89, 0.89, 0.89, 0.89, 0.89, 0.89, 0.89, 0.89, 0.89, 0.89, 0.89, 0.89, 0.89, 0.89, 0.89, 0.89, 0.89, 0.89, 0.89, 0.89, 0.89, 0.89, 0.89, 0.905, 0.905]}], \"AUC_weighted\": [{\"categories\": [\"0\", \"1\", \"2\", \"3\", \"4\", \"5\", \"6\", \"7\", \"8\", \"9\", \"10\", \"11\", \"12\", \"13\", \"14\", \"15\", \"16\", \"17\", \"18\", \"19\", \"20\", \"21\", \"22\", \"23\", \"24\", \"25\", \"26\", \"27\", \"28\", \"29\", \"30\", \"31\", \"32\", \"33\", \"34\"], \"mode\": \"markers\", \"name\": \"AUC_weighted\", \"stepped\": false, \"type\": \"scatter\", \"data\": [0.8702254168690302, 0.9361390966488587, 0.898750930872592, 0.9219683341427878, 0.8960779018941234, 0.8177148130160272, 0.9241703092115913, 0.9077799579083697, 0.9181425287356322, 0.9240556904646267, 0.8321391614052129, 0.9074338999514328, 0.9025295127084345, 0.8801692083535697, 0.9143570017807998, 0.8638118180346446, 0.8724154767686579, 0.8842236684474665, 0.8559207382224382, 0.8420483729966002, 0.9085084668933139, 0.7783230694511898, 0.9265181155900923, 0.9065311963736442, 0.8845947223571312, 0.9311700178079975, 0.898215185365064, 0.8694236684474663, 0.93430817548972, 0.8607264367816092, 0.9281419459284442, 0.8697085316496682, 0.9186043710539096, 0.939960369111219, 0.9403507204144407]}, {\"categories\": [\"0\", \"1\", \"2\", \"3\", \"4\", \"5\", \"6\", \"7\", \"8\", \"9\", \"10\", \"11\", \"12\", \"13\", \"14\", \"15\", \"16\", \"17\", \"18\", \"19\", \"20\", \"21\", \"22\", \"23\", \"24\", \"25\", \"26\", \"27\", \"28\", \"29\", \"30\", \"31\", \"32\", \"33\", \"34\"], \"mode\": \"lines\", \"name\": \"AUC_weighted_max\", \"stepped\": true, \"type\": \"scatter\", \"data\": [0.8702254168690302, 0.9361390966488587, 0.9361390966488587, 0.9361390966488587, 0.9361390966488587, 0.9361390966488587, 0.9361390966488587, 0.9361390966488587, 0.9361390966488587, 0.9361390966488587, 0.9361390966488587, 0.9361390966488587, 0.9361390966488587, 0.9361390966488587, 0.9361390966488587, 0.9361390966488587, 0.9361390966488587, 0.9361390966488587, 0.9361390966488587, 0.9361390966488587, 0.9361390966488587, 0.9361390966488587, 0.9361390966488587, 0.9361390966488587, 0.9361390966488587, 0.9361390966488587, 0.9361390966488587, 0.9361390966488587, 0.9361390966488587, 0.9361390966488587, 0.9361390966488587, 0.9361390966488587, 0.9361390966488587, 0.939960369111219, 0.9403507204144407]}], \"norm_macro_recall\": [{\"categories\": [\"0\", \"1\", \"2\", \"3\", \"4\", \"5\", \"6\", \"7\", \"8\", \"9\", \"10\", \"11\", \"12\", \"13\", \"14\", \"15\", \"16\", \"17\", \"18\", \"19\", \"20\", \"21\", \"22\", \"23\", \"24\", \"25\", \"26\", \"27\", \"28\", \"29\", \"30\", \"31\", \"32\", \"33\", \"34\"], \"mode\": \"markers\", \"name\": \"norm_macro_recall\", \"stepped\": false, \"type\": \"scatter\", \"data\": [0.4763671685284119, 0.6755091468350332, 0.6162603205439534, 0.6460611947547353, 0.5869418811720899, 0.38031406831795367, 0.6664594463331714, 0.40068965517241384, 0.6037850089039987, 0.6805439533754251, 0.3524364578274244, 0.37594625222599976, 0.4967200906588959, 0.2297393556742755, 0.09999999999999998, 0.5759073984134695, 0.0, 0.5284668933139064, 0.504934434191355, 0.37832928606119476, 0.42850574712643674, 0.0, 0.6790416059575846, 0.6116011008580217, 0.5856856079002752, 0.625310021045815, 0.5265436295936539, 0.4732102962603205, 0.6762829852679295, 0.48065080135988336, 0.6625514003561599, 0.09172413793103451, 0.7170568237008256, 0.7272106200420917, 0.6515784361340456]}, {\"categories\": [\"0\", \"1\", \"2\", \"3\", \"4\", \"5\", \"6\", \"7\", \"8\", \"9\", \"10\", \"11\", \"12\", \"13\", \"14\", \"15\", \"16\", \"17\", \"18\", \"19\", \"20\", \"21\", \"22\", \"23\", \"24\", \"25\", \"26\", \"27\", \"28\", \"29\", \"30\", \"31\", \"32\", \"33\", \"34\"], \"mode\": \"lines\", \"name\": \"norm_macro_recall_max\", \"stepped\": true, \"type\": \"scatter\", \"data\": [0.4763671685284119, 0.6755091468350332, 0.6755091468350332, 0.6755091468350332, 0.6755091468350332, 0.6755091468350332, 0.6755091468350332, 0.6755091468350332, 0.6755091468350332, 0.6805439533754251, 0.6805439533754251, 0.6805439533754251, 0.6805439533754251, 0.6805439533754251, 0.6805439533754251, 0.6805439533754251, 0.6805439533754251, 0.6805439533754251, 0.6805439533754251, 0.6805439533754251, 0.6805439533754251, 0.6805439533754251, 0.6805439533754251, 0.6805439533754251, 0.6805439533754251, 0.6805439533754251, 0.6805439533754251, 0.6805439533754251, 0.6805439533754251, 0.6805439533754251, 0.6805439533754251, 0.6805439533754251, 0.7170568237008256, 0.7272106200420917, 0.7272106200420917]}], \"matthews_correlation\": [{\"categories\": [\"0\", \"1\", \"2\", \"3\", \"4\", \"5\", \"6\", \"7\", \"8\", \"9\", \"10\", \"11\", \"12\", \"13\", \"14\", \"15\", \"16\", \"17\", \"18\", \"19\", \"20\", \"21\", \"22\", \"23\", \"24\", \"25\", \"26\", \"27\", \"28\", \"29\", \"30\", \"31\", \"32\", \"33\", \"34\"], \"mode\": \"markers\", \"name\": \"matthews_correlation\", \"stepped\": false, \"type\": \"scatter\", \"data\": [0.5010440091219422, 0.6844403351323185, 0.6605220698364858, 0.7141744785786679, 0.5867038479411995, 0.46045444217503423, 0.6910794355120486, 0.5302229219841417, 0.645072815565551, 0.7190129406275825, 0.43818702906491047, 0.4894437836563546, 0.5973898761621109, 0.38426585158438437, 0.19867985355975656, 0.5796030949353851, -0.029012942659282975, 0.5614723387194637, 0.5266054334190513, 0.4356595149895067, 0.5477362155672405, 0.0, 0.6923500855443139, 0.6466301542592323, 0.6030534826732965, 0.653152905537933, 0.5849289265672462, 0.5118217097099056, 0.6743526506885631, 0.5114293404950716, 0.7007202574580118, 0.2613041350872738, 0.6964102577797444, 0.7602661485208153, 0.6971464322548924]}, {\"categories\": [\"0\", \"1\", \"2\", \"3\", \"4\", \"5\", \"6\", \"7\", \"8\", \"9\", \"10\", \"11\", \"12\", \"13\", \"14\", \"15\", \"16\", \"17\", \"18\", \"19\", \"20\", \"21\", \"22\", \"23\", \"24\", \"25\", \"26\", \"27\", \"28\", \"29\", \"30\", \"31\", \"32\", \"33\", \"34\"], \"mode\": \"lines\", \"name\": \"matthews_correlation_max\", \"stepped\": true, \"type\": \"scatter\", \"data\": [0.5010440091219422, 0.6844403351323185, 0.6844403351323185, 0.7141744785786679, 0.7141744785786679, 0.7141744785786679, 0.7141744785786679, 0.7141744785786679, 0.7141744785786679, 0.7190129406275825, 0.7190129406275825, 0.7190129406275825, 0.7190129406275825, 0.7190129406275825, 0.7190129406275825, 0.7190129406275825, 0.7190129406275825, 0.7190129406275825, 0.7190129406275825, 0.7190129406275825, 0.7190129406275825, 0.7190129406275825, 0.7190129406275825, 0.7190129406275825, 0.7190129406275825, 0.7190129406275825, 0.7190129406275825, 0.7190129406275825, 0.7190129406275825, 0.7190129406275825, 0.7190129406275825, 0.7190129406275825, 0.7190129406275825, 0.7602661485208153, 0.7602661485208153]}], \"precision_score_weighted\": [{\"categories\": [\"0\", \"1\", \"2\", \"3\", \"4\", \"5\", \"6\", \"7\", \"8\", \"9\", \"10\", \"11\", \"12\", \"13\", \"14\", \"15\", \"16\", \"17\", \"18\", \"19\", \"20\", \"21\", \"22\", \"23\", \"24\", \"25\", \"26\", \"27\", \"28\", \"29\", \"30\", \"31\", \"32\", \"33\", \"34\"], \"mode\": \"markers\", \"name\": \"precision_score_weighted\", \"stepped\": false, \"type\": \"scatter\", \"data\": [0.8056600361663653, 0.8775547768566223, 0.8708980263157895, 0.894101616540641, 0.8392261677079349, 0.8109091342486652, 0.8805304605304606, 0.8494564647259375, 0.8626112735542559, 0.8941910083160083, 0.792156862745098, 0.820204991087344, 0.8539565320103946, 0.8024954501435919, 0.6731026315789475, 0.8359705991555306, 0.5323530303030304, 0.8299143248056291, 0.8180104731766124, 0.7922601874913519, 0.8493659362080415, 0.5333, 0.8787724085421453, 0.8628099719234796, 0.8522645703682855, 0.8669076610857432, 0.8410545460337063, 0.8128387533875339, 0.8727904808159301, 0.8108413636940452, 0.8843509485739665, 0.8168351567431096, 0.8818200121329504, 0.9098158929477422, 0.889360119047619]}, {\"categories\": [\"0\", \"1\", \"2\", \"3\", \"4\", \"5\", \"6\", \"7\", \"8\", \"9\", \"10\", \"11\", \"12\", \"13\", \"14\", \"15\", \"16\", \"17\", \"18\", \"19\", \"20\", \"21\", \"22\", \"23\", \"24\", \"25\", \"26\", \"27\", \"28\", \"29\", \"30\", \"31\", \"32\", \"33\", \"34\"], \"mode\": \"lines\", \"name\": \"precision_score_weighted_max\", \"stepped\": true, \"type\": \"scatter\", \"data\": [0.8056600361663653, 0.8775547768566223, 0.8775547768566223, 0.894101616540641, 0.894101616540641, 0.894101616540641, 0.894101616540641, 0.894101616540641, 0.894101616540641, 0.8941910083160083, 0.8941910083160083, 0.8941910083160083, 0.8941910083160083, 0.8941910083160083, 0.8941910083160083, 0.8941910083160083, 0.8941910083160083, 0.8941910083160083, 0.8941910083160083, 0.8941910083160083, 0.8941910083160083, 0.8941910083160083, 0.8941910083160083, 0.8941910083160083, 0.8941910083160083, 0.8941910083160083, 0.8941910083160083, 0.8941910083160083, 0.8941910083160083, 0.8941910083160083, 0.8941910083160083, 0.8941910083160083, 0.8941910083160083, 0.9098158929477422, 0.9098158929477422]}], \"average_precision_score_weighted\": [{\"categories\": [\"0\", \"1\", \"2\", \"3\", \"4\", \"5\", \"6\", \"7\", \"8\", \"9\", \"10\", \"11\", \"12\", \"13\", \"14\", \"15\", \"16\", \"17\", \"18\", \"19\", \"20\", \"21\", \"22\", \"23\", \"24\", \"25\", \"26\", \"27\", \"28\", \"29\", \"30\", \"31\", \"32\", \"33\", \"34\"], \"mode\": \"markers\", \"name\": \"average_precision_score_weighted\", \"stepped\": false, \"type\": \"scatter\", \"data\": [0.8820937322303385, 0.9289740267951258, 0.9026295090756143, 0.9215580346375365, 0.90372728770275, 0.8534468408646905, 0.9282093390022279, 0.9199039776215798, 0.926883409117703, 0.9263425618672738, 0.8570995041879207, 0.9153994539941084, 0.8992600829218302, 0.8892045360396765, 0.9204299596500182, 0.8755726236441126, 0.8798829835988586, 0.8991746876419173, 0.8668088893103622, 0.8601447922088405, 0.9186675127359, 0.8178564799119865, 0.9186448573092858, 0.9121628266906358, 0.9039164407280192, 0.9284515619286295, 0.8855770024079747, 0.8871422159515495, 0.9353350753333953, 0.8802882780467439, 0.9249633337943552, 0.8868007079486471, 0.9202568437534389, 0.9337785209581762, 0.936945418749759]}, {\"categories\": [\"0\", \"1\", \"2\", \"3\", \"4\", \"5\", \"6\", \"7\", \"8\", \"9\", \"10\", \"11\", \"12\", \"13\", \"14\", \"15\", \"16\", \"17\", \"18\", \"19\", \"20\", \"21\", \"22\", \"23\", \"24\", \"25\", \"26\", \"27\", \"28\", \"29\", \"30\", \"31\", \"32\", \"33\", \"34\"], \"mode\": \"lines\", \"name\": \"average_precision_score_weighted_max\", \"stepped\": true, \"type\": \"scatter\", \"data\": [0.8820937322303385, 0.9289740267951258, 0.9289740267951258, 0.9289740267951258, 0.9289740267951258, 0.9289740267951258, 0.9289740267951258, 0.9289740267951258, 0.9289740267951258, 0.9289740267951258, 0.9289740267951258, 0.9289740267951258, 0.9289740267951258, 0.9289740267951258, 0.9289740267951258, 0.9289740267951258, 0.9289740267951258, 0.9289740267951258, 0.9289740267951258, 0.9289740267951258, 0.9289740267951258, 0.9289740267951258, 0.9289740267951258, 0.9289740267951258, 0.9289740267951258, 0.9289740267951258, 0.9289740267951258, 0.9289740267951258, 0.9353350753333953, 0.9353350753333953, 0.9353350753333953, 0.9353350753333953, 0.9353350753333953, 0.9353350753333953, 0.936945418749759]}], \"f1_score_micro\": [{\"categories\": [\"0\", \"1\", \"2\", \"3\", \"4\", \"5\", \"6\", \"7\", \"8\", \"9\", \"10\", \"11\", \"12\", \"13\", \"14\", \"15\", \"16\", \"17\", \"18\", \"19\", \"20\", \"21\", \"22\", \"23\", \"24\", \"25\", \"26\", \"27\", \"28\", \"29\", \"30\", \"31\", \"32\", \"33\", \"34\"], \"mode\": \"markers\", \"name\": \"f1_score_micro\", \"stepped\": false, \"type\": \"scatter\", \"data\": [0.81, 0.875, 0.87, 0.89, 0.835, 0.7999999999999999, 0.88, 0.825, 0.865, 0.89, 0.8000000000000002, 0.815, 0.85, 0.785, 0.7550000000000001, 0.835, 0.7250000000000001, 0.835, 0.815, 0.785, 0.8300000000000001, 0.73, 0.88, 0.865, 0.835, 0.865, 0.845, 0.815, 0.8699999999999999, 0.815, 0.885, 0.7549999999999999, 0.875, 0.905, 0.88]}, {\"categories\": [\"0\", \"1\", \"2\", \"3\", \"4\", \"5\", \"6\", \"7\", \"8\", \"9\", \"10\", \"11\", \"12\", \"13\", \"14\", \"15\", \"16\", \"17\", \"18\", \"19\", \"20\", \"21\", \"22\", \"23\", \"24\", \"25\", \"26\", \"27\", \"28\", \"29\", \"30\", \"31\", \"32\", \"33\", \"34\"], \"mode\": \"lines\", \"name\": \"f1_score_micro_max\", \"stepped\": true, \"type\": \"scatter\", \"data\": [0.81, 0.875, 0.875, 0.89, 0.89, 0.89, 0.89, 0.89, 0.89, 0.89, 0.89, 0.89, 0.89, 0.89, 0.89, 0.89, 0.89, 0.89, 0.89, 0.89, 0.89, 0.89, 0.89, 0.89, 0.89, 0.89, 0.89, 0.89, 0.89, 0.89, 0.89, 0.89, 0.89, 0.905, 0.905]}], \"precision_score_macro\": [{\"categories\": [\"0\", \"1\", \"2\", \"3\", \"4\", \"5\", \"6\", \"7\", \"8\", \"9\", \"10\", \"11\", \"12\", \"13\", \"14\", \"15\", \"16\", \"17\", \"18\", \"19\", \"20\", \"21\", \"22\", \"23\", \"24\", \"25\", \"26\", \"27\", \"28\", \"29\", \"30\", \"31\", \"32\", \"33\", \"34\"], \"mode\": \"markers\", \"name\": \"precision_score_macro\", \"stepped\": false, \"type\": \"scatter\", \"data\": [0.7642676311030742, 0.8483808364211471, 0.8550986842105264, 0.8962040669357743, 0.7950136002380042, 0.7960287948131197, 0.8592736092736093, 0.868705743509048, 0.8460445094217024, 0.8816658004158004, 0.7725490196078432, 0.820187165775401, 0.8600755965036617, 0.8222947138182061, 0.6248684210526316, 0.7919124340357218, 0.36436868686868684, 0.7983411516020211, 0.7760134116937913, 0.7589983741524837, 0.8615591685767124, 0.365, 0.8534314932341248, 0.842586093398052, 0.8147666030792966, 0.8430618975139523, 0.8257772338121212, 0.7787127371273712, 0.8369499757163672, 0.772692213127756, 0.8713615526157166, 0.8743162213338944, 0.8386728054943342, 0.8996797311009639, 0.8787202380952381]}, {\"categories\": [\"0\", \"1\", \"2\", \"3\", \"4\", \"5\", \"6\", \"7\", \"8\", \"9\", \"10\", \"11\", \"12\", \"13\", \"14\", \"15\", \"16\", \"17\", \"18\", \"19\", \"20\", \"21\", \"22\", \"23\", \"24\", \"25\", \"26\", \"27\", \"28\", \"29\", \"30\", \"31\", \"32\", \"33\", \"34\"], \"mode\": \"lines\", \"name\": \"precision_score_macro_max\", \"stepped\": true, \"type\": \"scatter\", \"data\": [0.7642676311030742, 0.8483808364211471, 0.8550986842105264, 0.8962040669357743, 0.8962040669357743, 0.8962040669357743, 0.8962040669357743, 0.8962040669357743, 0.8962040669357743, 0.8962040669357743, 0.8962040669357743, 0.8962040669357743, 0.8962040669357743, 0.8962040669357743, 0.8962040669357743, 0.8962040669357743, 0.8962040669357743, 0.8962040669357743, 0.8962040669357743, 0.8962040669357743, 0.8962040669357743, 0.8962040669357743, 0.8962040669357743, 0.8962040669357743, 0.8962040669357743, 0.8962040669357743, 0.8962040669357743, 0.8962040669357743, 0.8962040669357743, 0.8962040669357743, 0.8962040669357743, 0.8962040669357743, 0.8962040669357743, 0.8996797311009639, 0.8996797311009639]}], \"f1_score_weighted\": [{\"categories\": [\"0\", \"1\", \"2\", \"3\", \"4\", \"5\", \"6\", \"7\", \"8\", \"9\", \"10\", \"11\", \"12\", \"13\", \"14\", \"15\", \"16\", \"17\", \"18\", \"19\", \"20\", \"21\", \"22\", \"23\", \"24\", \"25\", \"26\", \"27\", \"28\", \"29\", \"30\", \"31\", \"32\", \"33\", \"34\"], \"mode\": \"markers\", \"name\": \"f1_score_weighted\", \"stepped\": false, \"type\": \"scatter\", \"data\": [0.8046666666666666, 0.8727816064879161, 0.8655196648195703, 0.8837352245862885, 0.8330036024476904, 0.7741869503398544, 0.8774207132517436, 0.7949252845809454, 0.8582753492648367, 0.8869427043674041, 0.7792030885780885, 0.7919459944009817, 0.8355249813477662, 0.7367477461927586, 0.66734434124527, 0.8348530686461721, 0.6137608388788063, 0.8301268043821235, 0.8126336028751123, 0.7702170562363844, 0.8064304766059153, 0.6162238930659982, 0.8780279441142038, 0.8603542280488354, 0.8342248127305281, 0.8610957849841483, 0.8354685365301897, 0.8072980114031427, 0.8697666159309996, 0.8095451817813217, 0.8809564896157138, 0.6709100509985626, 0.8766213830029619, 0.9020870129384794, 0.8731262291891804]}, {\"categories\": [\"0\", \"1\", \"2\", \"3\", \"4\", \"5\", \"6\", \"7\", \"8\", \"9\", \"10\", \"11\", \"12\", \"13\", \"14\", \"15\", \"16\", \"17\", \"18\", \"19\", \"20\", \"21\", \"22\", \"23\", \"24\", \"25\", \"26\", \"27\", \"28\", \"29\", \"30\", \"31\", \"32\", \"33\", \"34\"], \"mode\": \"lines\", \"name\": \"f1_score_weighted_max\", \"stepped\": true, \"type\": \"scatter\", \"data\": [0.8046666666666666, 0.8727816064879161, 0.8727816064879161, 0.8837352245862885, 0.8837352245862885, 0.8837352245862885, 0.8837352245862885, 0.8837352245862885, 0.8837352245862885, 0.8869427043674041, 0.8869427043674041, 0.8869427043674041, 0.8869427043674041, 0.8869427043674041, 0.8869427043674041, 0.8869427043674041, 0.8869427043674041, 0.8869427043674041, 0.8869427043674041, 0.8869427043674041, 0.8869427043674041, 0.8869427043674041, 0.8869427043674041, 0.8869427043674041, 0.8869427043674041, 0.8869427043674041, 0.8869427043674041, 0.8869427043674041, 0.8869427043674041, 0.8869427043674041, 0.8869427043674041, 0.8869427043674041, 0.8869427043674041, 0.9020870129384794, 0.9020870129384794]}], \"recall_score_micro\": [{\"categories\": [\"0\", \"1\", \"2\", \"3\", \"4\", \"5\", \"6\", \"7\", \"8\", \"9\", \"10\", \"11\", \"12\", \"13\", \"14\", \"15\", \"16\", \"17\", \"18\", \"19\", \"20\", \"21\", \"22\", \"23\", \"24\", \"25\", \"26\", \"27\", \"28\", \"29\", \"30\", \"31\", \"32\", \"33\", \"34\"], \"mode\": \"markers\", \"name\": \"recall_score_micro\", \"stepped\": false, \"type\": \"scatter\", \"data\": [0.81, 0.875, 0.87, 0.89, 0.835, 0.8, 0.88, 0.825, 0.865, 0.89, 0.8, 0.815, 0.85, 0.785, 0.755, 0.835, 0.725, 0.835, 0.815, 0.785, 0.8300000000000001, 0.73, 0.88, 0.865, 0.835, 0.865, 0.845, 0.815, 0.87, 0.815, 0.885, 0.755, 0.875, 0.905, 0.88]}, {\"categories\": [\"0\", \"1\", \"2\", \"3\", \"4\", \"5\", \"6\", \"7\", \"8\", \"9\", \"10\", \"11\", \"12\", \"13\", \"14\", \"15\", \"16\", \"17\", \"18\", \"19\", \"20\", \"21\", \"22\", \"23\", \"24\", \"25\", \"26\", \"27\", \"28\", \"29\", \"30\", \"31\", \"32\", \"33\", \"34\"], \"mode\": \"lines\", \"name\": \"recall_score_micro_max\", \"stepped\": true, \"type\": \"scatter\", \"data\": [0.81, 0.875, 0.875, 0.89, 0.89, 0.89, 0.89, 0.89, 0.89, 0.89, 0.89, 0.89, 0.89, 0.89, 0.89, 0.89, 0.89, 0.89, 0.89, 0.89, 0.89, 0.89, 0.89, 0.89, 0.89, 0.89, 0.89, 0.89, 0.89, 0.89, 0.89, 0.89, 0.89, 0.905, 0.905]}], \"precision_score_micro\": [{\"categories\": [\"0\", \"1\", \"2\", \"3\", \"4\", \"5\", \"6\", \"7\", \"8\", \"9\", \"10\", \"11\", \"12\", \"13\", \"14\", \"15\", \"16\", \"17\", \"18\", \"19\", \"20\", \"21\", \"22\", \"23\", \"24\", \"25\", \"26\", \"27\", \"28\", \"29\", \"30\", \"31\", \"32\", \"33\", \"34\"], \"mode\": \"markers\", \"name\": \"precision_score_micro\", \"stepped\": false, \"type\": \"scatter\", \"data\": [0.81, 0.875, 0.87, 0.89, 0.835, 0.8, 0.88, 0.825, 0.865, 0.89, 0.8, 0.815, 0.85, 0.785, 0.755, 0.835, 0.725, 0.835, 0.815, 0.785, 0.8300000000000001, 0.73, 0.88, 0.865, 0.835, 0.865, 0.845, 0.815, 0.87, 0.815, 0.885, 0.755, 0.875, 0.905, 0.88]}, {\"categories\": [\"0\", \"1\", \"2\", \"3\", \"4\", \"5\", \"6\", \"7\", \"8\", \"9\", \"10\", \"11\", \"12\", \"13\", \"14\", \"15\", \"16\", \"17\", \"18\", \"19\", \"20\", \"21\", \"22\", \"23\", \"24\", \"25\", \"26\", \"27\", \"28\", \"29\", \"30\", \"31\", \"32\", \"33\", \"34\"], \"mode\": \"lines\", \"name\": \"precision_score_micro_max\", \"stepped\": true, \"type\": \"scatter\", \"data\": [0.81, 0.875, 0.875, 0.89, 0.89, 0.89, 0.89, 0.89, 0.89, 0.89, 0.89, 0.89, 0.89, 0.89, 0.89, 0.89, 0.89, 0.89, 0.89, 0.89, 0.89, 0.89, 0.89, 0.89, 0.89, 0.89, 0.89, 0.89, 0.89, 0.89, 0.89, 0.89, 0.89, 0.905, 0.905]}], \"log_loss\": [{\"categories\": [\"0\", \"1\", \"2\", \"3\", \"4\", \"5\", \"6\", \"7\", \"8\", \"9\", \"10\", \"11\", \"12\", \"13\", \"14\", \"15\", \"16\", \"17\", \"18\", \"19\", \"20\", \"21\", \"22\", \"23\", \"24\", \"25\", \"26\", \"27\", \"28\", \"29\", \"30\", \"31\", \"32\", \"33\", \"34\"], \"mode\": \"markers\", \"name\": \"log_loss\", \"stepped\": false, \"type\": \"scatter\", \"data\": [0.4549031880038983, 0.30254587530556487, 0.36350620300805536, 0.3400261659528344, 0.42637678655827604, 0.4540907776333427, 0.32185998134802707, 0.4160971532840908, 0.33616915133093234, 0.33691443939292914, 0.4466190752414388, 0.3895247422326762, 0.8052066348118644, 0.4563379492571927, 0.4613594733611633, 0.5089710365766889, 0.49242836204857277, 0.41088259004073824, 0.4071167701919146, 0.4470495391173418, 0.4103020406803295, 0.5422294717627478, 0.3182634759856025, 0.36021579170588636, 0.5428306623482202, 0.31876618840196214, 0.4078909241916368, 0.4474025236400788, 0.322362314855936, 0.43730590736921215, 0.31395355937873737, 0.48779674252801974, 0.37509974404873847, 0.30239887258796017, 0.33670295953816537]}, {\"categories\": [\"0\", \"1\", \"2\", \"3\", \"4\", \"5\", \"6\", \"7\", \"8\", \"9\", \"10\", \"11\", \"12\", \"13\", \"14\", \"15\", \"16\", \"17\", \"18\", \"19\", \"20\", \"21\", \"22\", \"23\", \"24\", \"25\", \"26\", \"27\", \"28\", \"29\", \"30\", \"31\", \"32\", \"33\", \"34\"], \"mode\": \"lines\", \"name\": \"log_loss_min\", \"stepped\": true, \"type\": \"scatter\", \"data\": [0.4549031880038983, 0.30254587530556487, 0.30254587530556487, 0.30254587530556487, 0.30254587530556487, 0.30254587530556487, 0.30254587530556487, 0.30254587530556487, 0.30254587530556487, 0.30254587530556487, 0.30254587530556487, 0.30254587530556487, 0.30254587530556487, 0.30254587530556487, 0.30254587530556487, 0.30254587530556487, 0.30254587530556487, 0.30254587530556487, 0.30254587530556487, 0.30254587530556487, 0.30254587530556487, 0.30254587530556487, 0.30254587530556487, 0.30254587530556487, 0.30254587530556487, 0.30254587530556487, 0.30254587530556487, 0.30254587530556487, 0.30254587530556487, 0.30254587530556487, 0.30254587530556487, 0.30254587530556487, 0.30254587530556487, 0.30239887258796017, 0.30239887258796017]}], \"weighted_accuracy\": [{\"categories\": [\"0\", \"1\", \"2\", \"3\", \"4\", \"5\", \"6\", \"7\", \"8\", \"9\", \"10\", \"11\", \"12\", \"13\", \"14\", \"15\", \"16\", \"17\", \"18\", \"19\", \"20\", \"21\", \"22\", \"23\", \"24\", \"25\", \"26\", \"27\", \"28\", \"29\", \"30\", \"31\", \"32\", \"33\", \"34\"], \"mode\": \"markers\", \"name\": \"weighted_accuracy\", \"stepped\": false, \"type\": \"scatter\", \"data\": [0.8572757565453928, 0.900741924515471, 0.9108126487589256, 0.9343828629717783, 0.8637409044542672, 0.873731383883033, 0.9112424345460728, 0.9077667460047603, 0.9073464807888474, 0.9233131587895275, 0.879986399183951, 0.8975919755185312, 0.9164869092145529, 0.8952662359741586, 0.8885107106426386, 0.8656014960897653, 0.8725107106426386, 0.8807065623937438, 0.8562767766065964, 0.8490914654879294, 0.9066970418225093, 0.8785107106426386, 0.9071717103026182, 0.9042767766065964, 0.8643475008500511, 0.9003121387283237, 0.898881332879973, 0.8668813328799729, 0.8916368582114927, 0.8637762665759945, 0.9207772866371984, 0.8899061543692621, 0.8865317919075144, 0.9333131587895275, 0.9174525671540292]}, {\"categories\": [\"0\", \"1\", \"2\", \"3\", \"4\", \"5\", \"6\", \"7\", \"8\", \"9\", \"10\", \"11\", \"12\", \"13\", \"14\", \"15\", \"16\", \"17\", \"18\", \"19\", \"20\", \"21\", \"22\", \"23\", \"24\", \"25\", \"26\", \"27\", \"28\", \"29\", \"30\", \"31\", \"32\", \"33\", \"34\"], \"mode\": \"lines\", \"name\": \"weighted_accuracy_max\", \"stepped\": true, \"type\": \"scatter\", \"data\": [0.8572757565453928, 0.900741924515471, 0.9108126487589256, 0.9343828629717783, 0.9343828629717783, 0.9343828629717783, 0.9343828629717783, 0.9343828629717783, 0.9343828629717783, 0.9343828629717783, 0.9343828629717783, 0.9343828629717783, 0.9343828629717783, 0.9343828629717783, 0.9343828629717783, 0.9343828629717783, 0.9343828629717783, 0.9343828629717783, 0.9343828629717783, 0.9343828629717783, 0.9343828629717783, 0.9343828629717783, 0.9343828629717783, 0.9343828629717783, 0.9343828629717783, 0.9343828629717783, 0.9343828629717783, 0.9343828629717783, 0.9343828629717783, 0.9343828629717783, 0.9343828629717783, 0.9343828629717783, 0.9343828629717783, 0.9343828629717783, 0.9343828629717783]}], \"recall_score_macro\": [{\"categories\": [\"0\", \"1\", \"2\", \"3\", \"4\", \"5\", \"6\", \"7\", \"8\", \"9\", \"10\", \"11\", \"12\", \"13\", \"14\", \"15\", \"16\", \"17\", \"18\", \"19\", \"20\", \"21\", \"22\", \"23\", \"24\", \"25\", \"26\", \"27\", \"28\", \"29\", \"30\", \"31\", \"32\", \"33\", \"34\"], \"mode\": \"markers\", \"name\": \"recall_score_macro\", \"stepped\": false, \"type\": \"scatter\", \"data\": [0.7381835842642059, 0.8377545734175166, 0.8081301602719767, 0.8230305973773677, 0.793470940586045, 0.6901570341589769, 0.8332297231665857, 0.700344827586207, 0.8018925044519993, 0.8402719766877125, 0.6762182289137122, 0.6879731261129999, 0.7483600453294479, 0.6148696778371378, 0.55, 0.7879536992067347, 0.4966666666666667, 0.7642334466569531, 0.7524672170956774, 0.6891646430305973, 0.7142528735632183, 0.5, 0.8395208029787923, 0.8058005504290109, 0.7928428039501376, 0.8126550105229076, 0.7632718147968269, 0.7366051481301603, 0.8381414926339648, 0.7403254006799417, 0.83127570017808, 0.5458620689655173, 0.8585284118504128, 0.8636053100210459, 0.8257892180670228]}, {\"categories\": [\"0\", \"1\", \"2\", \"3\", \"4\", \"5\", \"6\", \"7\", \"8\", \"9\", \"10\", \"11\", \"12\", \"13\", \"14\", \"15\", \"16\", \"17\", \"18\", \"19\", \"20\", \"21\", \"22\", \"23\", \"24\", \"25\", \"26\", \"27\", \"28\", \"29\", \"30\", \"31\", \"32\", \"33\", \"34\"], \"mode\": \"lines\", \"name\": \"recall_score_macro_max\", \"stepped\": true, \"type\": \"scatter\", \"data\": [0.7381835842642059, 0.8377545734175166, 0.8377545734175166, 0.8377545734175166, 0.8377545734175166, 0.8377545734175166, 0.8377545734175166, 0.8377545734175166, 0.8377545734175166, 0.8402719766877125, 0.8402719766877125, 0.8402719766877125, 0.8402719766877125, 0.8402719766877125, 0.8402719766877125, 0.8402719766877125, 0.8402719766877125, 0.8402719766877125, 0.8402719766877125, 0.8402719766877125, 0.8402719766877125, 0.8402719766877125, 0.8402719766877125, 0.8402719766877125, 0.8402719766877125, 0.8402719766877125, 0.8402719766877125, 0.8402719766877125, 0.8402719766877125, 0.8402719766877125, 0.8402719766877125, 0.8402719766877125, 0.8585284118504128, 0.8636053100210459, 0.8636053100210459]}], \"recall_score_weighted\": [{\"categories\": [\"0\", \"1\", \"2\", \"3\", \"4\", \"5\", \"6\", \"7\", \"8\", \"9\", \"10\", \"11\", \"12\", \"13\", \"14\", \"15\", \"16\", \"17\", \"18\", \"19\", \"20\", \"21\", \"22\", \"23\", \"24\", \"25\", \"26\", \"27\", \"28\", \"29\", \"30\", \"31\", \"32\", \"33\", \"34\"], \"mode\": \"markers\", \"name\": \"recall_score_weighted\", \"stepped\": false, \"type\": \"scatter\", \"data\": [0.81, 0.875, 0.87, 0.89, 0.835, 0.8, 0.88, 0.825, 0.865, 0.89, 0.8, 0.815, 0.85, 0.785, 0.755, 0.835, 0.725, 0.835, 0.815, 0.785, 0.8300000000000001, 0.73, 0.88, 0.865, 0.835, 0.865, 0.845, 0.815, 0.87, 0.815, 0.885, 0.755, 0.875, 0.905, 0.88]}, {\"categories\": [\"0\", \"1\", \"2\", \"3\", \"4\", \"5\", \"6\", \"7\", \"8\", \"9\", \"10\", \"11\", \"12\", \"13\", \"14\", \"15\", \"16\", \"17\", \"18\", \"19\", \"20\", \"21\", \"22\", \"23\", \"24\", \"25\", \"26\", \"27\", \"28\", \"29\", \"30\", \"31\", \"32\", \"33\", \"34\"], \"mode\": \"lines\", \"name\": \"recall_score_weighted_max\", \"stepped\": true, \"type\": \"scatter\", \"data\": [0.81, 0.875, 0.875, 0.89, 0.89, 0.89, 0.89, 0.89, 0.89, 0.89, 0.89, 0.89, 0.89, 0.89, 0.89, 0.89, 0.89, 0.89, 0.89, 0.89, 0.89, 0.89, 0.89, 0.89, 0.89, 0.89, 0.89, 0.89, 0.89, 0.89, 0.89, 0.89, 0.89, 0.905, 0.905]}], \"AUC_micro\": [{\"categories\": [\"0\", \"1\", \"2\", \"3\", \"4\", \"5\", \"6\", \"7\", \"8\", \"9\", \"10\", \"11\", \"12\", \"13\", \"14\", \"15\", \"16\", \"17\", \"18\", \"19\", \"20\", \"21\", \"22\", \"23\", \"24\", \"25\", \"26\", \"27\", \"28\", \"29\", \"30\", \"31\", \"32\", \"33\", \"34\"], \"mode\": \"markers\", \"name\": \"AUC_micro\", \"stepped\": false, \"type\": \"scatter\", \"data\": [0.9059999999999999, 0.94735, 0.9245749999999999, 0.9328500000000001, 0.9168000000000001, 0.8674249999999999, 0.9395, 0.9109500000000001, 0.93805, 0.9353, 0.87885, 0.91645, 0.92635, 0.8898999999999999, 0.89405, 0.90045, 0.87625, 0.9069499999999999, 0.89005, 0.87835, 0.913, 0.8398000000000001, 0.9351, 0.92545, 0.90705, 0.9416500000000001, 0.91375, 0.9012, 0.9412, 0.90145, 0.9383499999999999, 0.8766499999999999, 0.9249499999999999, 0.95015, 0.9408000000000001]}, {\"categories\": [\"0\", \"1\", \"2\", \"3\", \"4\", \"5\", \"6\", \"7\", \"8\", \"9\", \"10\", \"11\", \"12\", \"13\", \"14\", \"15\", \"16\", \"17\", \"18\", \"19\", \"20\", \"21\", \"22\", \"23\", \"24\", \"25\", \"26\", \"27\", \"28\", \"29\", \"30\", \"31\", \"32\", \"33\", \"34\"], \"mode\": \"lines\", \"name\": \"AUC_micro_max\", \"stepped\": true, \"type\": \"scatter\", \"data\": [0.9059999999999999, 0.94735, 0.94735, 0.94735, 0.94735, 0.94735, 0.94735, 0.94735, 0.94735, 0.94735, 0.94735, 0.94735, 0.94735, 0.94735, 0.94735, 0.94735, 0.94735, 0.94735, 0.94735, 0.94735, 0.94735, 0.94735, 0.94735, 0.94735, 0.94735, 0.94735, 0.94735, 0.94735, 0.94735, 0.94735, 0.94735, 0.94735, 0.94735, 0.95015, 0.95015]}], \"balanced_accuracy\": [{\"categories\": [\"0\", \"1\", \"2\", \"3\", \"4\", \"5\", \"6\", \"7\", \"8\", \"9\", \"10\", \"11\", \"12\", \"13\", \"14\", \"15\", \"16\", \"17\", \"18\", \"19\", \"20\", \"21\", \"22\", \"23\", \"24\", \"25\", \"26\", \"27\", \"28\", \"29\", \"30\", \"31\", \"32\", \"33\", \"34\"], \"mode\": \"markers\", \"name\": \"balanced_accuracy\", \"stepped\": false, \"type\": \"scatter\", \"data\": [0.7381835842642059, 0.8377545734175166, 0.8081301602719767, 0.8230305973773677, 0.793470940586045, 0.6901570341589769, 0.8332297231665857, 0.700344827586207, 0.8018925044519993, 0.8402719766877125, 0.6762182289137122, 0.6879731261129999, 0.7483600453294479, 0.6148696778371378, 0.55, 0.7879536992067347, 0.4966666666666667, 0.7642334466569531, 0.7524672170956774, 0.6891646430305973, 0.7142528735632183, 0.5, 0.8395208029787923, 0.8058005504290109, 0.7928428039501376, 0.8126550105229076, 0.7632718147968269, 0.7366051481301603, 0.8381414926339648, 0.7403254006799417, 0.83127570017808, 0.5458620689655173, 0.8585284118504128, 0.8636053100210459, 0.8257892180670228]}, {\"categories\": [\"0\", \"1\", \"2\", \"3\", \"4\", \"5\", \"6\", \"7\", \"8\", \"9\", \"10\", \"11\", \"12\", \"13\", \"14\", \"15\", \"16\", \"17\", \"18\", \"19\", \"20\", \"21\", \"22\", \"23\", \"24\", \"25\", \"26\", \"27\", \"28\", \"29\", \"30\", \"31\", \"32\", \"33\", \"34\"], \"mode\": \"lines\", \"name\": \"balanced_accuracy_max\", \"stepped\": true, \"type\": \"scatter\", \"data\": [0.7381835842642059, 0.8377545734175166, 0.8377545734175166, 0.8377545734175166, 0.8377545734175166, 0.8377545734175166, 0.8377545734175166, 0.8377545734175166, 0.8377545734175166, 0.8402719766877125, 0.8402719766877125, 0.8402719766877125, 0.8402719766877125, 0.8402719766877125, 0.8402719766877125, 0.8402719766877125, 0.8402719766877125, 0.8402719766877125, 0.8402719766877125, 0.8402719766877125, 0.8402719766877125, 0.8402719766877125, 0.8402719766877125, 0.8402719766877125, 0.8402719766877125, 0.8402719766877125, 0.8402719766877125, 0.8402719766877125, 0.8402719766877125, 0.8402719766877125, 0.8402719766877125, 0.8402719766877125, 0.8585284118504128, 0.8636053100210459, 0.8636053100210459]}], \"average_precision_score_macro\": [{\"categories\": [\"0\", \"1\", \"2\", \"3\", \"4\", \"5\", \"6\", \"7\", \"8\", \"9\", \"10\", \"11\", \"12\", \"13\", \"14\", \"15\", \"16\", \"17\", \"18\", \"19\", \"20\", \"21\", \"22\", \"23\", \"24\", \"25\", \"26\", \"27\", \"28\", \"29\", \"30\", \"31\", \"32\", \"33\", \"34\"], \"mode\": \"markers\", \"name\": \"average_precision_score_macro\", \"stepped\": false, \"type\": \"scatter\", \"data\": [0.8269434533200687, 0.8874731866525681, 0.8603027183726847, 0.883634002142869, 0.8698269446924212, 0.794439039131164, 0.8915512223604394, 0.8831899324261203, 0.894289489048621, 0.8854400893146104, 0.7975923769176169, 0.8767305350559798, 0.8608377490151568, 0.8441612977161159, 0.8831666819242763, 0.8305205811247406, 0.8230032938703937, 0.8503657346134856, 0.8092785556185541, 0.7990510917090612, 0.8784348847453499, 0.752430081022737, 0.8729915416613633, 0.8749637739110361, 0.8612544045502379, 0.8885837497780321, 0.8350341722268554, 0.8412993768426358, 0.9012767157238462, 0.8390051098092988, 0.8829340578572208, 0.8392184537054777, 0.8804224250817967, 0.8959901861308437, 0.9012814589220286]}, {\"categories\": [\"0\", \"1\", \"2\", \"3\", \"4\", \"5\", \"6\", \"7\", \"8\", \"9\", \"10\", \"11\", \"12\", \"13\", \"14\", \"15\", \"16\", \"17\", \"18\", \"19\", \"20\", \"21\", \"22\", \"23\", \"24\", \"25\", \"26\", \"27\", \"28\", \"29\", \"30\", \"31\", \"32\", \"33\", \"34\"], \"mode\": \"lines\", \"name\": \"average_precision_score_macro_max\", \"stepped\": true, \"type\": \"scatter\", \"data\": [0.8269434533200687, 0.8874731866525681, 0.8874731866525681, 0.8874731866525681, 0.8874731866525681, 0.8874731866525681, 0.8915512223604394, 0.8915512223604394, 0.894289489048621, 0.894289489048621, 0.894289489048621, 0.894289489048621, 0.894289489048621, 0.894289489048621, 0.894289489048621, 0.894289489048621, 0.894289489048621, 0.894289489048621, 0.894289489048621, 0.894289489048621, 0.894289489048621, 0.894289489048621, 0.894289489048621, 0.894289489048621, 0.894289489048621, 0.894289489048621, 0.894289489048621, 0.894289489048621, 0.9012767157238462, 0.9012767157238462, 0.9012767157238462, 0.9012767157238462, 0.9012767157238462, 0.9012767157238462, 0.9012814589220286]}], \"f1_score_macro\": [{\"categories\": [\"0\", \"1\", \"2\", \"3\", \"4\", \"5\", \"6\", \"7\", \"8\", \"9\", \"10\", \"11\", \"12\", \"13\", \"14\", \"15\", \"16\", \"17\", \"18\", \"19\", \"20\", \"21\", \"22\", \"23\", \"24\", \"25\", \"26\", \"27\", \"28\", \"29\", \"30\", \"31\", \"32\", \"33\", \"34\"], \"mode\": \"markers\", \"name\": \"f1_score_macro\", \"stepped\": false, \"type\": \"scatter\", \"data\": [0.7466666666666667, 0.8378832190328656, 0.8243005811596162, 0.8470310109859547, 0.7881779949116111, 0.6944381317331733, 0.8420844848006317, 0.7174036045648562, 0.8158257072435109, 0.8532876860242298, 0.6980623543123543, 0.7136471276269367, 0.7784652056803956, 0.6243654597678258, 0.5115239078087376, 0.7890122459087977, 0.4202460173422061, 0.7778465863572246, 0.7585624438454628, 0.6960009586562739, 0.7355755031193628, 0.4218880534670008, 0.8445167607374722, 0.8189989638239401, 0.7898605997051771, 0.8206723727064313, 0.7831925077939118, 0.747890418578779, 0.8351090816844242, 0.7516042708474118, 0.8458476370680723, 0.5119845666269076, 0.8458504215083161, 0.8736905785155549, 0.834714165641911]}, {\"categories\": [\"0\", \"1\", \"2\", \"3\", \"4\", \"5\", \"6\", \"7\", \"8\", \"9\", \"10\", \"11\", \"12\", \"13\", \"14\", \"15\", \"16\", \"17\", \"18\", \"19\", \"20\", \"21\", \"22\", \"23\", \"24\", \"25\", \"26\", \"27\", \"28\", \"29\", \"30\", \"31\", \"32\", \"33\", \"34\"], \"mode\": \"lines\", \"name\": \"f1_score_macro_max\", \"stepped\": true, \"type\": \"scatter\", \"data\": [0.7466666666666667, 0.8378832190328656, 0.8378832190328656, 0.8470310109859547, 0.8470310109859547, 0.8470310109859547, 0.8470310109859547, 0.8470310109859547, 0.8470310109859547, 0.8532876860242298, 0.8532876860242298, 0.8532876860242298, 0.8532876860242298, 0.8532876860242298, 0.8532876860242298, 0.8532876860242298, 0.8532876860242298, 0.8532876860242298, 0.8532876860242298, 0.8532876860242298, 0.8532876860242298, 0.8532876860242298, 0.8532876860242298, 0.8532876860242298, 0.8532876860242298, 0.8532876860242298, 0.8532876860242298, 0.8532876860242298, 0.8532876860242298, 0.8532876860242298, 0.8532876860242298, 0.8532876860242298, 0.8532876860242298, 0.8736905785155549, 0.8736905785155549]}], \"average_precision_score_micro\": [{\"categories\": [\"0\", \"1\", \"2\", \"3\", \"4\", \"5\", \"6\", \"7\", \"8\", \"9\", \"10\", \"11\", \"12\", \"13\", \"14\", \"15\", \"16\", \"17\", \"18\", \"19\", \"20\", \"21\", \"22\", \"23\", \"24\", \"25\", \"26\", \"27\", \"28\", \"29\", \"30\", \"31\", \"32\", \"33\", \"34\"], \"mode\": \"markers\", \"name\": \"average_precision_score_micro\", \"stepped\": false, \"type\": \"scatter\", \"data\": [0.9068873233451877, 0.9496277129930215, 0.9201207019069786, 0.9293896859072998, 0.9118027051835456, 0.8691939219208469, 0.9416046982676343, 0.9140139115992579, 0.9378131662736042, 0.9379512911442653, 0.8759736201984022, 0.9187654947872681, 0.9117365236227798, 0.8869423248992658, 0.9010432929509924, 0.8875969724581607, 0.8807803496431486, 0.9111336215254693, 0.8861136572439909, 0.8758777709263663, 0.9170081705902999, 0.8351828334202552, 0.935538614333234, 0.9227468806832191, 0.9085778192703804, 0.9414264140056949, 0.9049047607599194, 0.8987916653254238, 0.9402797640165035, 0.8934407369953649, 0.9390723698391148, 0.8794547329704339, 0.9205113849269928, 0.9518121533629976, 0.942590726230885]}, {\"categories\": [\"0\", \"1\", \"2\", \"3\", \"4\", \"5\", \"6\", \"7\", \"8\", \"9\", \"10\", \"11\", \"12\", \"13\", \"14\", \"15\", \"16\", \"17\", \"18\", \"19\", \"20\", \"21\", \"22\", \"23\", \"24\", \"25\", \"26\", \"27\", \"28\", \"29\", \"30\", \"31\", \"32\", \"33\", \"34\"], \"mode\": \"lines\", \"name\": \"average_precision_score_micro_max\", \"stepped\": true, \"type\": \"scatter\", \"data\": [0.9068873233451877, 0.9496277129930215, 0.9496277129930215, 0.9496277129930215, 0.9496277129930215, 0.9496277129930215, 0.9496277129930215, 0.9496277129930215, 0.9496277129930215, 0.9496277129930215, 0.9496277129930215, 0.9496277129930215, 0.9496277129930215, 0.9496277129930215, 0.9496277129930215, 0.9496277129930215, 0.9496277129930215, 0.9496277129930215, 0.9496277129930215, 0.9496277129930215, 0.9496277129930215, 0.9496277129930215, 0.9496277129930215, 0.9496277129930215, 0.9496277129930215, 0.9496277129930215, 0.9496277129930215, 0.9496277129930215, 0.9496277129930215, 0.9496277129930215, 0.9496277129930215, 0.9496277129930215, 0.9496277129930215, 0.9518121533629976, 0.9518121533629976]}], \"AUC_macro\": [{\"categories\": [\"0\", \"1\", \"2\", \"3\", \"4\", \"5\", \"6\", \"7\", \"8\", \"9\", \"10\", \"11\", \"12\", \"13\", \"14\", \"15\", \"16\", \"17\", \"18\", \"19\", \"20\", \"21\", \"22\", \"23\", \"24\", \"25\", \"26\", \"27\", \"28\", \"29\", \"30\", \"31\", \"32\", \"33\", \"34\"], \"mode\": \"markers\", \"name\": \"AUC_macro\", \"stepped\": false, \"type\": \"scatter\", \"data\": [0.8702254168690302, 0.9361390966488587, 0.8987175975392585, 0.9219683341427878, 0.8960779018941234, 0.8177148130160272, 0.9241703092115914, 0.9077799579083697, 0.9181425287356322, 0.9240556904646269, 0.8321391614052129, 0.9074338999514328, 0.9025295127084345, 0.8801692083535697, 0.9143570017807998, 0.8638118180346447, 0.8724154767686578, 0.8842236684474665, 0.8559207382224381, 0.8420483729966003, 0.9085084668933139, 0.7783230694511899, 0.9265181155900923, 0.9065311963736441, 0.8845947223571313, 0.9311700178079974, 0.898215185365064, 0.8694236684474664, 0.9343081754897199, 0.8607264367816092, 0.9281419459284442, 0.8697085316496681, 0.9186043710539097, 0.939960369111219, 0.9403507204144407]}, {\"categories\": [\"0\", \"1\", \"2\", \"3\", \"4\", \"5\", \"6\", \"7\", \"8\", \"9\", \"10\", \"11\", \"12\", \"13\", \"14\", \"15\", \"16\", \"17\", \"18\", \"19\", \"20\", \"21\", \"22\", \"23\", \"24\", \"25\", \"26\", \"27\", \"28\", \"29\", \"30\", \"31\", \"32\", \"33\", \"34\"], \"mode\": \"lines\", \"name\": \"AUC_macro_max\", \"stepped\": true, \"type\": \"scatter\", \"data\": [0.8702254168690302, 0.9361390966488587, 0.9361390966488587, 0.9361390966488587, 0.9361390966488587, 0.9361390966488587, 0.9361390966488587, 0.9361390966488587, 0.9361390966488587, 0.9361390966488587, 0.9361390966488587, 0.9361390966488587, 0.9361390966488587, 0.9361390966488587, 0.9361390966488587, 0.9361390966488587, 0.9361390966488587, 0.9361390966488587, 0.9361390966488587, 0.9361390966488587, 0.9361390966488587, 0.9361390966488587, 0.9361390966488587, 0.9361390966488587, 0.9361390966488587, 0.9361390966488587, 0.9361390966488587, 0.9361390966488587, 0.9361390966488587, 0.9361390966488587, 0.9361390966488587, 0.9361390966488587, 0.9361390966488587, 0.939960369111219, 0.9403507204144407]}]}, \"metricName\": null, \"primaryMetricName\": \"accuracy\", \"showLegend\": false}, \"run_metrics\": [{\"name\": \"log_loss\", \"run_id\": \"AutoML_67ca48eb-d33e-479c-9ad2-82c679dacb51\", \"categories\": [0], \"series\": [{\"data\": [0.30239887258796017]}]}, {\"name\": \"average_precision_score_micro\", \"run_id\": \"AutoML_67ca48eb-d33e-479c-9ad2-82c679dacb51\", \"categories\": [0], \"series\": [{\"data\": [0.9518121533629976]}]}, {\"name\": \"average_precision_score_macro\", \"run_id\": \"AutoML_67ca48eb-d33e-479c-9ad2-82c679dacb51\", \"categories\": [0], \"series\": [{\"data\": [0.8959901861308437]}]}, {\"name\": \"f1_score_macro\", \"run_id\": \"AutoML_67ca48eb-d33e-479c-9ad2-82c679dacb51\", \"categories\": [0], \"series\": [{\"data\": [0.8736905785155549]}]}, {\"name\": \"precision_score_macro\", \"run_id\": \"AutoML_67ca48eb-d33e-479c-9ad2-82c679dacb51\", \"categories\": [0], \"series\": [{\"data\": [0.8996797311009639]}]}, {\"name\": \"recall_score_weighted\", \"run_id\": \"AutoML_67ca48eb-d33e-479c-9ad2-82c679dacb51\", \"categories\": [0], \"series\": [{\"data\": [0.905]}]}, {\"name\": \"accuracy\", \"run_id\": \"AutoML_67ca48eb-d33e-479c-9ad2-82c679dacb51\", \"categories\": [0], \"series\": [{\"data\": [0.905]}]}, {\"name\": \"recall_score_micro\", \"run_id\": \"AutoML_67ca48eb-d33e-479c-9ad2-82c679dacb51\", \"categories\": [0], \"series\": [{\"data\": [0.905]}]}, {\"name\": \"recall_score_macro\", \"run_id\": \"AutoML_67ca48eb-d33e-479c-9ad2-82c679dacb51\", \"categories\": [0], \"series\": [{\"data\": [0.8636053100210459]}]}, {\"name\": \"weighted_accuracy\", \"run_id\": \"AutoML_67ca48eb-d33e-479c-9ad2-82c679dacb51\", \"categories\": [0], \"series\": [{\"data\": [0.9333131587895275]}]}, {\"name\": \"precision_score_weighted\", \"run_id\": \"AutoML_67ca48eb-d33e-479c-9ad2-82c679dacb51\", \"categories\": [0], \"series\": [{\"data\": [0.9098158929477422]}]}, {\"name\": \"average_precision_score_weighted\", \"run_id\": \"AutoML_67ca48eb-d33e-479c-9ad2-82c679dacb51\", \"categories\": [0], \"series\": [{\"data\": [0.9337785209581762]}]}, {\"name\": \"matthews_correlation\", \"run_id\": \"AutoML_67ca48eb-d33e-479c-9ad2-82c679dacb51\", \"categories\": [0], \"series\": [{\"data\": [0.7602661485208153]}]}, {\"name\": \"balanced_accuracy\", \"run_id\": \"AutoML_67ca48eb-d33e-479c-9ad2-82c679dacb51\", \"categories\": [0], \"series\": [{\"data\": [0.8636053100210459]}]}, {\"name\": \"AUC_weighted\", \"run_id\": \"AutoML_67ca48eb-d33e-479c-9ad2-82c679dacb51\", \"categories\": [0], \"series\": [{\"data\": [0.939960369111219]}]}, {\"name\": \"AUC_micro\", \"run_id\": \"AutoML_67ca48eb-d33e-479c-9ad2-82c679dacb51\", \"categories\": [0], \"series\": [{\"data\": [0.95015]}]}, {\"name\": \"f1_score_micro\", \"run_id\": \"AutoML_67ca48eb-d33e-479c-9ad2-82c679dacb51\", \"categories\": [0], \"series\": [{\"data\": [0.905]}]}, {\"name\": \"precision_score_micro\", \"run_id\": \"AutoML_67ca48eb-d33e-479c-9ad2-82c679dacb51\", \"categories\": [0], \"series\": [{\"data\": [0.905]}]}, {\"name\": \"AUC_macro\", \"run_id\": \"AutoML_67ca48eb-d33e-479c-9ad2-82c679dacb51\", \"categories\": [0], \"series\": [{\"data\": [0.939960369111219]}]}, {\"name\": \"f1_score_weighted\", \"run_id\": \"AutoML_67ca48eb-d33e-479c-9ad2-82c679dacb51\", \"categories\": [0], \"series\": [{\"data\": [0.9020870129384794]}]}, {\"name\": \"norm_macro_recall\", \"run_id\": \"AutoML_67ca48eb-d33e-479c-9ad2-82c679dacb51\", \"categories\": [0], \"series\": [{\"data\": [0.7272106200420917]}]}], \"run_logs\": \"\\nRun is completed.\", \"graph\": {}, \"widget_settings\": {\"childWidgetDisplay\": \"popup\", \"send_telemetry\": false, \"log_level\": \"INFO\", \"sdk_version\": \"1.22.0\"}, \"loading\": false}"
          },
          "metadata": {}
        }
      ],
      "execution_count": 15,
      "metadata": {
        "collapsed": true,
        "jupyter": {
          "source_hidden": false,
          "outputs_hidden": false
        },
        "nteract": {
          "transient": {
            "deleting": false
          }
        },
        "gather": {
          "logged": 1615034424172
        }
      }
    },
    {
      "cell_type": "markdown",
      "source": [
        "## Best Model"
      ],
      "metadata": {
        "nteract": {
          "transient": {
            "deleting": false
          }
        }
      }
    },
    {
      "cell_type": "code",
      "source": [
        "best_run, best_model = remote_run.get_output()"
      ],
      "outputs": [],
      "execution_count": 17,
      "metadata": {
        "collapsed": true,
        "jupyter": {
          "source_hidden": false,
          "outputs_hidden": false
        },
        "nteract": {
          "transient": {
            "deleting": false
          }
        },
        "gather": {
          "logged": 1615034603014
        }
      }
    },
    {
      "cell_type": "code",
      "source": [
        "best_run.get_file_names()[-3]"
      ],
      "outputs": [
        {
          "output_type": "execute_result",
          "execution_count": 18,
          "data": {
            "text/plain": "'outputs/model.pkl'"
          },
          "metadata": {}
        }
      ],
      "execution_count": 18,
      "metadata": {
        "collapsed": true,
        "jupyter": {
          "source_hidden": false,
          "outputs_hidden": false
        },
        "nteract": {
          "transient": {
            "deleting": false
          }
        },
        "gather": {
          "logged": 1615034609225
        }
      }
    },
    {
      "cell_type": "code",
      "source": [
        "import pickle\r\n",
        "best_run.download_file('outputs/model.pkl', './outputs/automlmodel.pkl')"
      ],
      "outputs": [],
      "execution_count": 19,
      "metadata": {
        "collapsed": true,
        "jupyter": {
          "source_hidden": false,
          "outputs_hidden": false
        },
        "nteract": {
          "transient": {
            "deleting": false
          }
        },
        "gather": {
          "logged": 1615034622940
        }
      }
    },
    {
      "cell_type": "code",
      "source": [
        "best_run.get_file_names()[-6]"
      ],
      "outputs": [
        {
          "output_type": "execute_result",
          "execution_count": 20,
          "data": {
            "text/plain": "'outputs/conda_env_v_1_0_0.yml'"
          },
          "metadata": {}
        }
      ],
      "execution_count": 20,
      "metadata": {
        "collapsed": true,
        "jupyter": {
          "source_hidden": false,
          "outputs_hidden": false
        },
        "nteract": {
          "transient": {
            "deleting": false
          }
        },
        "gather": {
          "logged": 1615034626257
        }
      }
    },
    {
      "cell_type": "code",
      "source": [
        "best_run.download_file('outputs/conda_env_v_1_0_0.yml', './outputs/conda_dependencies.yml')"
      ],
      "outputs": [],
      "execution_count": 21,
      "metadata": {
        "collapsed": true,
        "jupyter": {
          "source_hidden": false,
          "outputs_hidden": false
        },
        "nteract": {
          "transient": {
            "deleting": false
          }
        },
        "gather": {
          "logged": 1615034632488
        }
      }
    },
    {
      "cell_type": "code",
      "source": [
        "import joblib\r\n",
        "joblib.load(filename='outputs/automlmodel.pkl')"
      ],
      "outputs": [
        {
          "output_type": "execute_result",
          "execution_count": 22,
          "data": {
            "text/plain": "Pipeline(memory=None,\n         steps=[('datatransformer',\n                 DataTransformer(enable_dnn=None, enable_feature_sweeping=None,\n                                 feature_sweeping_config=None,\n                                 feature_sweeping_timeout=None,\n                                 featurization_config=None, force_text_dnn=None,\n                                 is_cross_validation=None,\n                                 is_onnx_compatible=None, logger=None,\n                                 observer=None, task=None, working_dir=None)),\n                ('prefittedsoftvotingclassifier',...\n                                                                                                    max_features='sqrt',\n                                                                                                    max_leaf_nodes=None,\n                                                                                                    max_samples=None,\n                                                                                                    min_impurity_decrease=0.0,\n                                                                                                    min_impurity_split=None,\n                                                                                                    min_samples_leaf=0.01,\n                                                                                                    min_samples_split=0.01,\n                                                                                                    min_weight_fraction_leaf=0.0,\n                                                                                                    n_estimators=10,\n                                                                                                    n_jobs=1,\n                                                                                                    oob_score=False,\n                                                                                                    random_state=None,\n                                                                                                    verbose=0,\n                                                                                                    warm_start=False))],\n                                                                     verbose=False))],\n                                               flatten_transform=None,\n                                               weights=[0.1, 0.1, 0.1, 0.3, 0.1,\n                                                        0.2, 0.1]))],\n         verbose=False)"
          },
          "metadata": {}
        }
      ],
      "execution_count": 22,
      "metadata": {
        "gather": {
          "logged": 1615034643373
        },
        "jupyter": {
          "outputs_hidden": false,
          "source_hidden": false
        },
        "nteract": {
          "transient": {
            "deleting": false
          }
        }
      }
    },
    {
      "cell_type": "code",
      "source": [
        "best_run"
      ],
      "outputs": [
        {
          "output_type": "execute_result",
          "execution_count": 35,
          "data": {
            "text/plain": "Run(Experiment: auto-ml,\nId: AutoML_67ca48eb-d33e-479c-9ad2-82c679dacb51_33,\nType: None,\nStatus: Completed)",
            "text/html": "<table style=\"width:100%\"><tr><th>Experiment</th><th>Id</th><th>Type</th><th>Status</th><th>Details Page</th><th>Docs Page</th></tr><tr><td>auto-ml</td><td>AutoML_67ca48eb-d33e-479c-9ad2-82c679dacb51_33</td><td></td><td>Completed</td><td><a href=\"https://ml.azure.com/experiments/auto-ml/runs/AutoML_67ca48eb-d33e-479c-9ad2-82c679dacb51_33?wsid=/subscriptions/976ee174-3882-4721-b90a-b5fef6b72f24/resourcegroups/aml-quickstarts-139915/workspaces/quick-starts-ws-139915\" target=\"_blank\" rel=\"noopener\">Link to Azure Machine Learning studio</a></td><td><a href=\"https://docs.microsoft.com/en-us/python/api/azureml-core/azureml.core.run.Run?view=azure-ml-py\" target=\"_blank\" rel=\"noopener\">Link to Documentation</a></td></tr></table>"
          },
          "metadata": {}
        }
      ],
      "execution_count": 35,
      "metadata": {
        "collapsed": true,
        "jupyter": {
          "source_hidden": false,
          "outputs_hidden": false
        },
        "nteract": {
          "transient": {
            "deleting": false
          }
        },
        "gather": {
          "logged": 1615035252278
        }
      }
    },
    {
      "cell_type": "code",
      "source": [
        "best_run.get_tags()"
      ],
      "outputs": [
        {
          "output_type": "execute_result",
          "execution_count": 49,
          "data": {
            "text/plain": "{'ensembled_iterations': '[9, 3, 30, 22, 6, 1, 12]',\n 'ensembled_algorithms': \"['ExtremeRandomTrees', 'RandomForest', 'RandomForest', 'RandomForest', 'GradientBoosting', 'RandomForest', 'RandomForest']\",\n 'ensemble_weights': '[0.1, 0.1, 0.1, 0.3, 0.1, 0.2, 0.1]',\n 'best_individual_pipeline_score': '0.89',\n 'best_individual_iteration': '9',\n 'model_explanation': 'True'}"
          },
          "metadata": {}
        }
      ],
      "execution_count": 49,
      "metadata": {
        "collapsed": true,
        "jupyter": {
          "source_hidden": false,
          "outputs_hidden": false
        },
        "nteract": {
          "transient": {
            "deleting": false
          }
        },
        "gather": {
          "logged": 1615035720259
        }
      }
    },
    {
      "cell_type": "code",
      "source": [
        "print('Accuracy :', best_run.get_metrics()['accuracy'])\r\n",
        "print('AUC_weighted :', best_run.get_metrics()['AUC_weighted'])\r\n"
      ],
      "outputs": [
        {
          "output_type": "stream",
          "name": "stdout",
          "text": [
            "Accuracy : 0.905\n",
            "AUC_weighted : 0.939960369111219\n"
          ]
        }
      ],
      "execution_count": 61,
      "metadata": {
        "collapsed": true,
        "jupyter": {
          "source_hidden": false,
          "outputs_hidden": false
        },
        "nteract": {
          "transient": {
            "deleting": false
          }
        },
        "gather": {
          "logged": 1615035995632
        }
      }
    },
    {
      "cell_type": "code",
      "source": [
        "import sklearn\r\n",
        "from azureml.core.environment import Environment\r\n",
        "\r\n",
        "environment = Environment.get(workspace=ws, name=\"AzureML-AutoML\")\r\n",
        "environment.python.conda_dependencies.add_pip_package(\"inference-schema[numpy-support]\")\r\n",
        "environment.python.conda_dependencies.add_pip_package(\"joblib\")\r\n",
        "environment.python.conda_dependencies.add_pip_package(\"scikit-learn=={}\".format(sklearn.__version__))"
      ],
      "outputs": [],
      "execution_count": 62,
      "metadata": {
        "collapsed": true,
        "jupyter": {
          "source_hidden": false,
          "outputs_hidden": false
        },
        "nteract": {
          "transient": {
            "deleting": false
          }
        },
        "gather": {
          "logged": 1615036005861
        }
      }
    },
    {
      "cell_type": "code",
      "source": [
        "%%writefile score.py\r\n",
        "\r\n",
        "import json\r\n",
        "import numpy as np\r\n",
        "import pandas as pd\r\n",
        "import os\r\n",
        "import joblib\r\n",
        "import pickle\r\n",
        "\r\n",
        "from inference_schema.schema_decorators import input_schema, output_schema\r\n",
        "from inference_schema.parameter_types.numpy_parameter_type import NumpyParameterType\r\n",
        "from inference_schema.parameter_types.pandas_parameter_type import PandasParameterType\r\n",
        "\r\n",
        "input_sample = pd.DataFrame({\"age\": pd.Series([0.0], dtype=\"float64\"), \"anaemia\": pd.Series([0], dtype=\"int64\"), \"creatinine_phosphokinase\": pd.Series([0.0], dtype=\"float64\"), \"diabetes\": pd.Series([0], dtype=\"int64\"), \"ejection_fraction\": pd.Series([0.0], dtype=\"float64\"), \"high_blood_pressure\": pd.Series([0], dtype=\"int64\"), \"platelets\": pd.Series([0.0], dtype=\"float64\"), \"serum_creatinine\": pd.Series([0.0], dtype=\"float64\"), \"serum_sodium\": pd.Series([0.0], dtype=\"float64\"), \"sex\": pd.Series([0], dtype=\"int64\"), \"smoking\": pd.Series([0], dtype=\"int64\"), \"time\": pd.Series([0.0], dtype=\"float64\")})\r\n",
        "output_sample = np.array([0])\r\n",
        "\r\n",
        "\r\n",
        "def init():\r\n",
        "    global model\r\n",
        "    model_path = os.path.join(os.getenv('AZUREML_MODEL_DIR'), 'automlmodel.pkl')\r\n",
        "    print(\"Found model:\", os.path.isfile(model_path)) \r\n",
        "    model = joblib.load(model_path)\r\n",
        "\r\n",
        "@input_schema('data', PandasParameterType(input_sample))\r\n",
        "@output_schema(NumpyParameterType(output_sample))\r\n",
        "\r\n",
        "def run(data):\r\n",
        "    try:\r\n",
        "        result = model.predict(data)\r\n",
        "        return json.dumps({\"result\": result.tolist()})\r\n",
        "    except Exception as e:\r\n",
        "        result = str(e)\r\n",
        "        return json.dumps({\"error\": result})  \r\n"
      ],
      "outputs": [
        {
          "output_type": "stream",
          "name": "stdout",
          "text": [
            "Writing score.py\n"
          ]
        }
      ],
      "execution_count": 63,
      "metadata": {
        "collapsed": true,
        "jupyter": {
          "source_hidden": false,
          "outputs_hidden": false
        },
        "nteract": {
          "transient": {
            "deleting": false
          }
        },
        "gather": {
          "logged": 1614919984308
        }
      }
    },
    {
      "cell_type": "markdown",
      "source": [
        "## Model Deployment\r\n"
      ],
      "metadata": {
        "nteract": {
          "transient": {
            "deleting": false
          }
        }
      }
    },
    {
      "cell_type": "code",
      "source": [
        "from azureml.core.model import Model\r\n",
        "model = Model.register(model_name='automl-model', model_path='outputs/automlmodel.pkl', workspace=ws)"
      ],
      "outputs": [
        {
          "output_type": "stream",
          "name": "stdout",
          "text": [
            "Registering model automl-model\n"
          ]
        }
      ],
      "execution_count": 64,
      "metadata": {
        "collapsed": true,
        "jupyter": {
          "source_hidden": false,
          "outputs_hidden": false
        },
        "nteract": {
          "transient": {
            "deleting": false
          }
        },
        "gather": {
          "logged": 1615036086045
        }
      }
    },
    {
      "cell_type": "code",
      "source": [
        "Model(ws, 'automl-model')"
      ],
      "outputs": [
        {
          "output_type": "execute_result",
          "execution_count": 65,
          "data": {
            "text/plain": "Model(workspace=Workspace.create(name='quick-starts-ws-139915', subscription_id='976ee174-3882-4721-b90a-b5fef6b72f24', resource_group='aml-quickstarts-139915'), name=automl-model, id=automl-model:1, version=1, tags={}, properties={})"
          },
          "metadata": {}
        }
      ],
      "execution_count": 65,
      "metadata": {
        "collapsed": true,
        "jupyter": {
          "source_hidden": false,
          "outputs_hidden": false
        },
        "nteract": {
          "transient": {
            "deleting": false
          }
        },
        "gather": {
          "logged": 1615036088889
        }
      }
    },
    {
      "cell_type": "code",
      "source": [
        "from azureml.core.webservice import AciWebservice\r\n",
        "from azureml.core.model import InferenceConfig\r\n",
        "\r\n",
        "deployment_config = AciWebservice.deploy_configuration(cpu_cores = 1, memory_gb = 1,  enable_app_insights=False, auth_enabled=True)\r\n",
        "\r\n",
        "from azureml.core.webservice import LocalWebservice, Webservice\r\n",
        "inference_config = InferenceConfig(entry_script='score.py', environment=environment)\r\n",
        "service = Model.deploy(ws, \"automl-deploy\", [model], inference_config, deployment_config)\r\n",
        "service.wait_for_deployment(show_output = True)\r\n",
        "\r\n",
        "print(service.state)\r\n",
        "print(service.scoring_uri)\r\n",
        "print(service.swagger_uri)"
      ],
      "outputs": [
        {
          "output_type": "stream",
          "name": "stdout",
          "text": [
            "Tips: You can try get_logs(): https://aka.ms/debugimage#dockerlog or local deployment: https://aka.ms/debugimage#debug-locally to debug if deployment takes longer than 10 minutes.\n",
            "Running..........................................\n",
            "Succeeded\n",
            "ACI service creation operation finished, operation \"Succeeded\"\n",
            "Healthy\n",
            "http://4b3bdb2a-1d67-4870-91ab-320f7a4d7e94.southcentralus.azurecontainer.io/score\n",
            "http://4b3bdb2a-1d67-4870-91ab-320f7a4d7e94.southcentralus.azurecontainer.io/swagger.json\n"
          ]
        }
      ],
      "execution_count": 66,
      "metadata": {
        "collapsed": true,
        "jupyter": {
          "source_hidden": false,
          "outputs_hidden": false
        },
        "nteract": {
          "transient": {
            "deleting": false
          }
        },
        "gather": {
          "logged": 1615036334610
        }
      }
    },
    {
      "cell_type": "code",
      "source": [
        "primaryKey, secondaryKey = service.get_keys()\r\n",
        "print('Primary Key :', primaryKey)\r\n",
        "scoringURI = service.scoring_uri\r\n",
        "print('Scoring URI :', scoringURI)"
      ],
      "outputs": [
        {
          "output_type": "stream",
          "name": "stdout",
          "text": [
            "Primary Key : GDMMH0BsoqYHRhpwzVcPl9dO8EmY3kxM\n",
            "Scoring URI : http://4b3bdb2a-1d67-4870-91ab-320f7a4d7e94.southcentralus.azurecontainer.io/score\n"
          ]
        }
      ],
      "execution_count": 69,
      "metadata": {
        "collapsed": true,
        "jupyter": {
          "source_hidden": false,
          "outputs_hidden": false
        },
        "nteract": {
          "transient": {
            "deleting": false
          }
        },
        "gather": {
          "logged": 1615036409348
        }
      }
    },
    {
      "cell_type": "code",
      "source": [
        "import requests\r\n",
        "import json\r\n",
        "\r\n",
        "scoring_uri = scoringURI\r\n",
        "key = primaryKey\r\n",
        "\r\n",
        "\r\n",
        "# Sample data to send to the service\r\n",
        "data = json.dumps(\r\n",
        "    {\"data\":\r\n",
        "            [\r\n",
        "                {\r\n",
        "                    'age': 75.0,\r\n",
        "                    'anaemia': 0,\r\n",
        "                    'creatinine_phosphokinase': 582,\r\n",
        "                    'diabetes': 0,\r\n",
        "                    'ejection_fraction': 20,\r\n",
        "                    'high_blood_pressure': 1,\r\n",
        "                    'platelets': 265000.0,\r\n",
        "                    'serum_creatinine': 1.9,\r\n",
        "                    'serum_sodium': 130,\r\n",
        "                    'sex': 1,\r\n",
        "                    'smoking': 0,\r\n",
        "                    'time': 4\r\n",
        "                },\r\n",
        "                {\r\n",
        "                    'age': 55.0,\r\n",
        "                    'anaemia': 0,\r\n",
        "                    'creatinine_phosphokinase': 7861,\r\n",
        "                    'diabetes': 0,\r\n",
        "                    'ejection_fraction': 38,\r\n",
        "                    'high_blood_pressure': 0,\r\n",
        "                    'platelets': 263358.03,\r\n",
        "                    'serum_creatinine': 1.1,\r\n",
        "                    'serum_sodium': 136,\r\n",
        "                    'sex': 1,\r\n",
        "                    'smoking': 0,\r\n",
        "                    'time': 6\r\n",
        "                }\r\n",
        "            ] \r\n",
        "        }\r\n",
        ")\r\n",
        "                \r\n",
        "\r\n",
        "headers = {'Content-Type': 'application/json'}\r\n",
        "\r\n",
        "headers['Authorization'] = f'Bearer {key}'\r\n",
        "\r\n",
        "resp = requests.post(scoring_uri, data, headers=headers)\r\n",
        "print(\"Response result from input payload : \")\r\n",
        "print(resp.text)"
      ],
      "outputs": [
        {
          "output_type": "stream",
          "name": "stdout",
          "text": [
            "Response result from input payload : \n",
            "\"{\\\"result\\\": [0, 0]}\"\n"
          ]
        }
      ],
      "execution_count": 75,
      "metadata": {
        "collapsed": true,
        "jupyter": {
          "source_hidden": false,
          "outputs_hidden": false
        },
        "nteract": {
          "transient": {
            "deleting": false
          }
        },
        "gather": {
          "logged": 1615036523460
        }
      }
    },
    {
      "cell_type": "code",
      "source": [],
      "outputs": [],
      "execution_count": null,
      "metadata": {
        "collapsed": true,
        "jupyter": {
          "source_hidden": false,
          "outputs_hidden": false
        },
        "nteract": {
          "transient": {
            "deleting": false
          }
        }
      }
    }
  ],
  "metadata": {
    "kernel_info": {
      "name": "python3-azureml"
    },
    "kernelspec": {
      "name": "python3-azureml",
      "language": "python",
      "display_name": "Python 3.6 - AzureML"
    },
    "language_info": {
      "name": "python",
      "version": "3.6.9",
      "mimetype": "text/x-python",
      "codemirror_mode": {
        "name": "ipython",
        "version": 3
      },
      "pygments_lexer": "ipython3",
      "nbconvert_exporter": "python",
      "file_extension": ".py"
    },
    "nteract": {
      "version": "nteract-front-end@1.0.0"
    },
    "microsoft": {
      "host": {
        "AzureML": {
          "notebookHasBeenCompleted": true
        }
      }
    }
  },
  "nbformat": 4,
  "nbformat_minor": 2
}